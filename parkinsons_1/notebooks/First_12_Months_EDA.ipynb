{
 "cells": [
  {
   "cell_type": "code",
   "execution_count": 14,
   "id": "55b4d4eb",
   "metadata": {},
   "outputs": [],
   "source": [
    "import pandas as pd\n",
    "import numpy as np\n",
    "import matplotlib.pyplot as plt\n",
    "import seaborn as sns"
   ]
  },
  {
   "cell_type": "code",
   "execution_count": 15,
   "id": "509d7e31",
   "metadata": {},
   "outputs": [],
   "source": [
    "updrs1_cat_df = pd.read_csv('../data/processed/train_updrs_1_cat.csv')\n",
    "updrs2_cat_df = pd.read_csv('../data/processed/train_updrs_2_cat.csv')\n",
    "updrs3_cat_df = pd.read_csv('../data/processed/train_updrs_3_cat.csv')"
   ]
  },
  {
   "cell_type": "code",
   "execution_count": 16,
   "id": "d217fa7c",
   "metadata": {},
   "outputs": [
    {
     "data": {
      "text/html": [
       "<div>\n",
       "<style scoped>\n",
       "    .dataframe tbody tr th:only-of-type {\n",
       "        vertical-align: middle;\n",
       "    }\n",
       "\n",
       "    .dataframe tbody tr th {\n",
       "        vertical-align: top;\n",
       "    }\n",
       "\n",
       "    .dataframe thead th {\n",
       "        text-align: right;\n",
       "    }\n",
       "</style>\n",
       "<table border=\"1\" class=\"dataframe\">\n",
       "  <thead>\n",
       "    <tr style=\"text-align: right;\">\n",
       "      <th></th>\n",
       "      <th>visit_id</th>\n",
       "      <th>patient_id</th>\n",
       "      <th>visit_month</th>\n",
       "      <th>updrs_1</th>\n",
       "      <th>O00391</th>\n",
       "      <th>O00533</th>\n",
       "      <th>O00584</th>\n",
       "      <th>O14498</th>\n",
       "      <th>O14773</th>\n",
       "      <th>O14791</th>\n",
       "      <th>...</th>\n",
       "      <th>YVNKEIQNAVNGVK_P10909</th>\n",
       "      <th>YWGVASFLQK_P02753</th>\n",
       "      <th>YYC(UniMod_4)FQGNQFLR_P02790</th>\n",
       "      <th>YYTYLIMNK_P01024</th>\n",
       "      <th>YYWGGQYTWDMAK_P02675</th>\n",
       "      <th>kfold</th>\n",
       "      <th>num_prot_pep</th>\n",
       "      <th>num_prot</th>\n",
       "      <th>num_pept</th>\n",
       "      <th>updrs_1_cat</th>\n",
       "    </tr>\n",
       "  </thead>\n",
       "  <tbody>\n",
       "    <tr>\n",
       "      <th>0</th>\n",
       "      <td>15009_6</td>\n",
       "      <td>15009</td>\n",
       "      <td>6</td>\n",
       "      <td>10.0</td>\n",
       "      <td>8405.07</td>\n",
       "      <td>534045.0</td>\n",
       "      <td>30143.1</td>\n",
       "      <td>20820.7</td>\n",
       "      <td>11807.80</td>\n",
       "      <td>0.00</td>\n",
       "      <td>...</td>\n",
       "      <td>61756.0</td>\n",
       "      <td>120733.0</td>\n",
       "      <td>471637.0</td>\n",
       "      <td>34750.8</td>\n",
       "      <td>13215.8</td>\n",
       "      <td>0</td>\n",
       "      <td>1.105130e+09</td>\n",
       "      <td>5.525650e+08</td>\n",
       "      <td>5.525647e+08</td>\n",
       "      <td>mild</td>\n",
       "    </tr>\n",
       "    <tr>\n",
       "      <th>1</th>\n",
       "      <td>34182_72</td>\n",
       "      <td>34182</td>\n",
       "      <td>72</td>\n",
       "      <td>7.0</td>\n",
       "      <td>0.00</td>\n",
       "      <td>542513.0</td>\n",
       "      <td>19304.5</td>\n",
       "      <td>22916.5</td>\n",
       "      <td>6747.55</td>\n",
       "      <td>4420.99</td>\n",
       "      <td>...</td>\n",
       "      <td>75484.3</td>\n",
       "      <td>98472.8</td>\n",
       "      <td>326149.0</td>\n",
       "      <td>32177.8</td>\n",
       "      <td>27313.8</td>\n",
       "      <td>0</td>\n",
       "      <td>8.682514e+08</td>\n",
       "      <td>4.341258e+08</td>\n",
       "      <td>4.341257e+08</td>\n",
       "      <td>mild</td>\n",
       "    </tr>\n",
       "    <tr>\n",
       "      <th>2</th>\n",
       "      <td>23175_48</td>\n",
       "      <td>23175</td>\n",
       "      <td>48</td>\n",
       "      <td>3.0</td>\n",
       "      <td>11009.60</td>\n",
       "      <td>307536.0</td>\n",
       "      <td>16775.6</td>\n",
       "      <td>16795.3</td>\n",
       "      <td>10865.30</td>\n",
       "      <td>2884.05</td>\n",
       "      <td>...</td>\n",
       "      <td>99610.6</td>\n",
       "      <td>182655.0</td>\n",
       "      <td>420676.0</td>\n",
       "      <td>40307.4</td>\n",
       "      <td>18854.4</td>\n",
       "      <td>0</td>\n",
       "      <td>1.110041e+09</td>\n",
       "      <td>5.550206e+08</td>\n",
       "      <td>5.550202e+08</td>\n",
       "      <td>mild</td>\n",
       "    </tr>\n",
       "    <tr>\n",
       "      <th>3</th>\n",
       "      <td>55256_12</td>\n",
       "      <td>55256</td>\n",
       "      <td>12</td>\n",
       "      <td>3.0</td>\n",
       "      <td>10321.10</td>\n",
       "      <td>662077.0</td>\n",
       "      <td>40133.5</td>\n",
       "      <td>36077.4</td>\n",
       "      <td>38053.20</td>\n",
       "      <td>0.00</td>\n",
       "      <td>...</td>\n",
       "      <td>112250.0</td>\n",
       "      <td>198959.0</td>\n",
       "      <td>517531.0</td>\n",
       "      <td>47780.1</td>\n",
       "      <td>13218.4</td>\n",
       "      <td>0</td>\n",
       "      <td>1.435929e+09</td>\n",
       "      <td>7.179644e+08</td>\n",
       "      <td>7.179644e+08</td>\n",
       "      <td>mild</td>\n",
       "    </tr>\n",
       "    <tr>\n",
       "      <th>4</th>\n",
       "      <td>64674_6</td>\n",
       "      <td>64674</td>\n",
       "      <td>6</td>\n",
       "      <td>11.0</td>\n",
       "      <td>0.00</td>\n",
       "      <td>274549.0</td>\n",
       "      <td>21607.1</td>\n",
       "      <td>13334.7</td>\n",
       "      <td>15174.40</td>\n",
       "      <td>2240.71</td>\n",
       "      <td>...</td>\n",
       "      <td>45884.6</td>\n",
       "      <td>103051.0</td>\n",
       "      <td>735200.0</td>\n",
       "      <td>61510.1</td>\n",
       "      <td>22546.5</td>\n",
       "      <td>0</td>\n",
       "      <td>1.117004e+09</td>\n",
       "      <td>5.585019e+08</td>\n",
       "      <td>5.585018e+08</td>\n",
       "      <td>moderate</td>\n",
       "    </tr>\n",
       "  </tbody>\n",
       "</table>\n",
       "<p>5 rows × 1204 columns</p>\n",
       "</div>"
      ],
      "text/plain": [
       "   visit_id  patient_id  visit_month  updrs_1    O00391    O00533   O00584  \\\n",
       "0   15009_6       15009            6     10.0   8405.07  534045.0  30143.1   \n",
       "1  34182_72       34182           72      7.0      0.00  542513.0  19304.5   \n",
       "2  23175_48       23175           48      3.0  11009.60  307536.0  16775.6   \n",
       "3  55256_12       55256           12      3.0  10321.10  662077.0  40133.5   \n",
       "4   64674_6       64674            6     11.0      0.00  274549.0  21607.1   \n",
       "\n",
       "    O14498    O14773   O14791  ...  YVNKEIQNAVNGVK_P10909  YWGVASFLQK_P02753  \\\n",
       "0  20820.7  11807.80     0.00  ...                61756.0           120733.0   \n",
       "1  22916.5   6747.55  4420.99  ...                75484.3            98472.8   \n",
       "2  16795.3  10865.30  2884.05  ...                99610.6           182655.0   \n",
       "3  36077.4  38053.20     0.00  ...               112250.0           198959.0   \n",
       "4  13334.7  15174.40  2240.71  ...                45884.6           103051.0   \n",
       "\n",
       "   YYC(UniMod_4)FQGNQFLR_P02790  YYTYLIMNK_P01024  YYWGGQYTWDMAK_P02675  \\\n",
       "0                      471637.0           34750.8               13215.8   \n",
       "1                      326149.0           32177.8               27313.8   \n",
       "2                      420676.0           40307.4               18854.4   \n",
       "3                      517531.0           47780.1               13218.4   \n",
       "4                      735200.0           61510.1               22546.5   \n",
       "\n",
       "   kfold  num_prot_pep      num_prot      num_pept  updrs_1_cat  \n",
       "0      0  1.105130e+09  5.525650e+08  5.525647e+08         mild  \n",
       "1      0  8.682514e+08  4.341258e+08  4.341257e+08         mild  \n",
       "2      0  1.110041e+09  5.550206e+08  5.550202e+08         mild  \n",
       "3      0  1.435929e+09  7.179644e+08  7.179644e+08         mild  \n",
       "4      0  1.117004e+09  5.585019e+08  5.585018e+08     moderate  \n",
       "\n",
       "[5 rows x 1204 columns]"
      ]
     },
     "execution_count": 16,
     "metadata": {},
     "output_type": "execute_result"
    }
   ],
   "source": [
    "updrs1_cat_df.head()"
   ]
  },
  {
   "cell_type": "code",
   "execution_count": 17,
   "id": "0472162b",
   "metadata": {},
   "outputs": [],
   "source": [
    "# replace the categorical mild with 0, and moderate and severe with 1\n",
    "updrs1_cat_df['updrs_1_cat'] = updrs1_cat_df['updrs_1_cat'].map({'mild':0, 'severe':1, 'moderate':1})\n",
    "updrs2_cat_df['updrs_2_cat'] = updrs2_cat_df['updrs_2_cat'].map({'mild':0, 'severe':1, 'moderate':1})\n",
    "updrs3_cat_df['updrs_3_cat'] = updrs3_cat_df['updrs_3_cat'].map({'mild':0, 'severe':1, 'moderate':1})"
   ]
  },
  {
   "cell_type": "code",
   "execution_count": 18,
   "id": "2f6c17c6",
   "metadata": {},
   "outputs": [],
   "source": [
    "# assign the max updrs category to the patient\n",
    "def max_updrs_cat(df, target):\n",
    "    \n",
    "    max_updrs = df.groupby('patient_id')[target].max().reset_index()\n",
    "    max_updrs = max_updrs.rename(columns={target:f'max_{target}'})\n",
    "    final_df = df.merge(max_updrs, how='left', on='patient_id')\n",
    "    \n",
    "    return final_df"
   ]
  },
  {
   "cell_type": "code",
   "execution_count": 19,
   "id": "c3c85497",
   "metadata": {},
   "outputs": [],
   "source": [
    "updrs1_cat_df = max_updrs_cat(updrs1_cat_df, 'updrs_1_cat')\n",
    "updrs2_cat_df = max_updrs_cat(updrs2_cat_df, 'updrs_2_cat')\n",
    "updrs3_cat_df = max_updrs_cat(updrs3_cat_df, 'updrs_3_cat')\n"
   ]
  },
  {
   "cell_type": "code",
   "execution_count": 20,
   "id": "273b65bb",
   "metadata": {},
   "outputs": [
    {
     "data": {
      "text/html": [
       "<div>\n",
       "<style scoped>\n",
       "    .dataframe tbody tr th:only-of-type {\n",
       "        vertical-align: middle;\n",
       "    }\n",
       "\n",
       "    .dataframe tbody tr th {\n",
       "        vertical-align: top;\n",
       "    }\n",
       "\n",
       "    .dataframe thead th {\n",
       "        text-align: right;\n",
       "    }\n",
       "</style>\n",
       "<table border=\"1\" class=\"dataframe\">\n",
       "  <thead>\n",
       "    <tr style=\"text-align: right;\">\n",
       "      <th></th>\n",
       "      <th>visit_id</th>\n",
       "      <th>patient_id</th>\n",
       "      <th>visit_month</th>\n",
       "      <th>updrs_1</th>\n",
       "      <th>O00391</th>\n",
       "      <th>O00533</th>\n",
       "      <th>O00584</th>\n",
       "      <th>O14498</th>\n",
       "      <th>O14773</th>\n",
       "      <th>O14791</th>\n",
       "      <th>...</th>\n",
       "      <th>YWGVASFLQK_P02753</th>\n",
       "      <th>YYC(UniMod_4)FQGNQFLR_P02790</th>\n",
       "      <th>YYTYLIMNK_P01024</th>\n",
       "      <th>YYWGGQYTWDMAK_P02675</th>\n",
       "      <th>kfold</th>\n",
       "      <th>num_prot_pep</th>\n",
       "      <th>num_prot</th>\n",
       "      <th>num_pept</th>\n",
       "      <th>updrs_1_cat</th>\n",
       "      <th>max_updrs_1_cat</th>\n",
       "    </tr>\n",
       "  </thead>\n",
       "  <tbody>\n",
       "    <tr>\n",
       "      <th>0</th>\n",
       "      <td>15009_6</td>\n",
       "      <td>15009</td>\n",
       "      <td>6</td>\n",
       "      <td>10.0</td>\n",
       "      <td>8405.07</td>\n",
       "      <td>534045.0</td>\n",
       "      <td>30143.1</td>\n",
       "      <td>20820.7</td>\n",
       "      <td>11807.80</td>\n",
       "      <td>0.00</td>\n",
       "      <td>...</td>\n",
       "      <td>120733.0</td>\n",
       "      <td>471637.0</td>\n",
       "      <td>34750.8</td>\n",
       "      <td>13215.8</td>\n",
       "      <td>0</td>\n",
       "      <td>1.105130e+09</td>\n",
       "      <td>5.525650e+08</td>\n",
       "      <td>5.525647e+08</td>\n",
       "      <td>0</td>\n",
       "      <td>0</td>\n",
       "    </tr>\n",
       "    <tr>\n",
       "      <th>1</th>\n",
       "      <td>34182_72</td>\n",
       "      <td>34182</td>\n",
       "      <td>72</td>\n",
       "      <td>7.0</td>\n",
       "      <td>0.00</td>\n",
       "      <td>542513.0</td>\n",
       "      <td>19304.5</td>\n",
       "      <td>22916.5</td>\n",
       "      <td>6747.55</td>\n",
       "      <td>4420.99</td>\n",
       "      <td>...</td>\n",
       "      <td>98472.8</td>\n",
       "      <td>326149.0</td>\n",
       "      <td>32177.8</td>\n",
       "      <td>27313.8</td>\n",
       "      <td>0</td>\n",
       "      <td>8.682514e+08</td>\n",
       "      <td>4.341258e+08</td>\n",
       "      <td>4.341257e+08</td>\n",
       "      <td>0</td>\n",
       "      <td>1</td>\n",
       "    </tr>\n",
       "    <tr>\n",
       "      <th>2</th>\n",
       "      <td>23175_48</td>\n",
       "      <td>23175</td>\n",
       "      <td>48</td>\n",
       "      <td>3.0</td>\n",
       "      <td>11009.60</td>\n",
       "      <td>307536.0</td>\n",
       "      <td>16775.6</td>\n",
       "      <td>16795.3</td>\n",
       "      <td>10865.30</td>\n",
       "      <td>2884.05</td>\n",
       "      <td>...</td>\n",
       "      <td>182655.0</td>\n",
       "      <td>420676.0</td>\n",
       "      <td>40307.4</td>\n",
       "      <td>18854.4</td>\n",
       "      <td>0</td>\n",
       "      <td>1.110041e+09</td>\n",
       "      <td>5.550206e+08</td>\n",
       "      <td>5.550202e+08</td>\n",
       "      <td>0</td>\n",
       "      <td>0</td>\n",
       "    </tr>\n",
       "    <tr>\n",
       "      <th>3</th>\n",
       "      <td>55256_12</td>\n",
       "      <td>55256</td>\n",
       "      <td>12</td>\n",
       "      <td>3.0</td>\n",
       "      <td>10321.10</td>\n",
       "      <td>662077.0</td>\n",
       "      <td>40133.5</td>\n",
       "      <td>36077.4</td>\n",
       "      <td>38053.20</td>\n",
       "      <td>0.00</td>\n",
       "      <td>...</td>\n",
       "      <td>198959.0</td>\n",
       "      <td>517531.0</td>\n",
       "      <td>47780.1</td>\n",
       "      <td>13218.4</td>\n",
       "      <td>0</td>\n",
       "      <td>1.435929e+09</td>\n",
       "      <td>7.179644e+08</td>\n",
       "      <td>7.179644e+08</td>\n",
       "      <td>0</td>\n",
       "      <td>0</td>\n",
       "    </tr>\n",
       "    <tr>\n",
       "      <th>4</th>\n",
       "      <td>64674_6</td>\n",
       "      <td>64674</td>\n",
       "      <td>6</td>\n",
       "      <td>11.0</td>\n",
       "      <td>0.00</td>\n",
       "      <td>274549.0</td>\n",
       "      <td>21607.1</td>\n",
       "      <td>13334.7</td>\n",
       "      <td>15174.40</td>\n",
       "      <td>2240.71</td>\n",
       "      <td>...</td>\n",
       "      <td>103051.0</td>\n",
       "      <td>735200.0</td>\n",
       "      <td>61510.1</td>\n",
       "      <td>22546.5</td>\n",
       "      <td>0</td>\n",
       "      <td>1.117004e+09</td>\n",
       "      <td>5.585019e+08</td>\n",
       "      <td>5.585018e+08</td>\n",
       "      <td>1</td>\n",
       "      <td>1</td>\n",
       "    </tr>\n",
       "  </tbody>\n",
       "</table>\n",
       "<p>5 rows × 1205 columns</p>\n",
       "</div>"
      ],
      "text/plain": [
       "   visit_id  patient_id  visit_month  updrs_1    O00391    O00533   O00584  \\\n",
       "0   15009_6       15009            6     10.0   8405.07  534045.0  30143.1   \n",
       "1  34182_72       34182           72      7.0      0.00  542513.0  19304.5   \n",
       "2  23175_48       23175           48      3.0  11009.60  307536.0  16775.6   \n",
       "3  55256_12       55256           12      3.0  10321.10  662077.0  40133.5   \n",
       "4   64674_6       64674            6     11.0      0.00  274549.0  21607.1   \n",
       "\n",
       "    O14498    O14773   O14791  ...  YWGVASFLQK_P02753  \\\n",
       "0  20820.7  11807.80     0.00  ...           120733.0   \n",
       "1  22916.5   6747.55  4420.99  ...            98472.8   \n",
       "2  16795.3  10865.30  2884.05  ...           182655.0   \n",
       "3  36077.4  38053.20     0.00  ...           198959.0   \n",
       "4  13334.7  15174.40  2240.71  ...           103051.0   \n",
       "\n",
       "   YYC(UniMod_4)FQGNQFLR_P02790  YYTYLIMNK_P01024  YYWGGQYTWDMAK_P02675  \\\n",
       "0                      471637.0           34750.8               13215.8   \n",
       "1                      326149.0           32177.8               27313.8   \n",
       "2                      420676.0           40307.4               18854.4   \n",
       "3                      517531.0           47780.1               13218.4   \n",
       "4                      735200.0           61510.1               22546.5   \n",
       "\n",
       "   kfold  num_prot_pep      num_prot      num_pept  updrs_1_cat  \\\n",
       "0      0  1.105130e+09  5.525650e+08  5.525647e+08            0   \n",
       "1      0  8.682514e+08  4.341258e+08  4.341257e+08            0   \n",
       "2      0  1.110041e+09  5.550206e+08  5.550202e+08            0   \n",
       "3      0  1.435929e+09  7.179644e+08  7.179644e+08            0   \n",
       "4      0  1.117004e+09  5.585019e+08  5.585018e+08            1   \n",
       "\n",
       "   max_updrs_1_cat  \n",
       "0                0  \n",
       "1                1  \n",
       "2                0  \n",
       "3                0  \n",
       "4                1  \n",
       "\n",
       "[5 rows x 1205 columns]"
      ]
     },
     "execution_count": 20,
     "metadata": {},
     "output_type": "execute_result"
    }
   ],
   "source": [
    "updrs1_cat_df.head()"
   ]
  },
  {
   "cell_type": "markdown",
   "id": "7eb0d1c7",
   "metadata": {},
   "source": [
    "## What is the distribution of visit_months?"
   ]
  },
  {
   "cell_type": "code",
   "execution_count": 21,
   "id": "a1af8d11",
   "metadata": {},
   "outputs": [
    {
     "data": {
      "image/png": "[encoded data removed]",
      "text/plain": [
       "<Figure size 432x288 with 1 Axes>"
      ]
     },
     "metadata": {
      "needs_background": "light"
     },
     "output_type": "display_data"
    }
   ],
   "source": [
    "visit_month_dist = updrs1_cat_df['visit_month'].value_counts().reset_index()\n",
    "visit_month_dist.columns = ['visit_month', 'value_count']\n",
    "visit_month_dist = visit_month_dist.sort_values(by='visit_month')\n",
    "sns.barplot(data=visit_month_dist, x='visit_month', y='value_count')\n",
    "plt.title('Visit Month Distribution')\n",
    "plt.xlabel('Visit Month')\n",
    "plt.ylabel('Value Count')\n",
    "plt.show()"
   ]
  },
  {
   "cell_type": "markdown",
   "id": "5911fe84",
   "metadata": {},
   "source": [
    "## What % of the max updrs categories happening within visit_month 12"
   ]
  },
  {
   "cell_type": "code",
   "execution_count": 22,
   "id": "3cbecd8a",
   "metadata": {},
   "outputs": [],
   "source": [
    "first_twelve_updrs1 = updrs1_cat_df[updrs1_cat_df['visit_month'] <= 12]\n",
    "first_twelve_updrs2 = updrs2_cat_df[updrs2_cat_df['visit_month'] <= 12]\n",
    "first_twelve_updrs3 = updrs3_cat_df[updrs3_cat_df['visit_month'] <= 12]"
   ]
  },
  {
   "cell_type": "code",
   "execution_count": 23,
   "id": "8a3f2ba6",
   "metadata": {},
   "outputs": [
    {
     "name": "stdout",
     "output_type": "stream",
     "text": [
      "For UPDRS 1, 84.84% of patients hit their max category in the first twelve months\n"
     ]
    }
   ],
   "source": [
    "max_first_twelve_df1 = first_twelve_updrs1[first_twelve_updrs1['updrs_1_cat'] == first_twelve_updrs1['max_updrs_1_cat']]\n",
    "max_first_twelve = max_first_twelve_df1['patient_id'].nunique()\n",
    "all_first_twelve = first_twelve_updrs1['patient_id'].nunique()\n",
    "print(f'For UPDRS 1, {round(100 * max_first_twelve / all_first_twelve, 2)}% of patients hit their max category in the first twelve months')"
   ]
  },
  {
   "cell_type": "code",
   "execution_count": 24,
   "id": "dd3dd859",
   "metadata": {},
   "outputs": [
    {
     "name": "stdout",
     "output_type": "stream",
     "text": [
      "For UPDRS 2, 86.48% of patients hit their max category in the first twelve months\n"
     ]
    }
   ],
   "source": [
    "max_first_twelve_df2 = first_twelve_updrs2[first_twelve_updrs2['updrs_2_cat'] == first_twelve_updrs2['max_updrs_2_cat']]\n",
    "max_first_twelve = max_first_twelve_df2['patient_id'].nunique()\n",
    "all_first_twelve = first_twelve_updrs2['patient_id'].nunique()\n",
    "print(f'For UPDRS 2, {round(100 * max_first_twelve / all_first_twelve, 2)}% of patients hit their max category in the first twelve months')"
   ]
  },
  {
   "cell_type": "code",
   "execution_count": 25,
   "id": "afebfa4a",
   "metadata": {},
   "outputs": [
    {
     "name": "stdout",
     "output_type": "stream",
     "text": [
      "For UPDRS 3, 82.38% of patients hit their max category in the first twelve months\n"
     ]
    }
   ],
   "source": [
    "max_first_twelve_df3 = first_twelve_updrs3[first_twelve_updrs3['updrs_3_cat'] == first_twelve_updrs3['max_updrs_3_cat']]\n",
    "max_first_twelve = max_first_twelve_df3['patient_id'].nunique()\n",
    "all_first_twelve = first_twelve_updrs3['patient_id'].nunique()\n",
    "print(f'For UPDRS 3, {round(100 * max_first_twelve / all_first_twelve, 2)}% of patients hit their max category in the first twelve months')"
   ]
  },
  {
   "cell_type": "markdown",
   "id": "20777e85",
   "metadata": {},
   "source": [
    "## Are those mostly the ones that just stay mild?"
   ]
  },
  {
   "cell_type": "code",
   "execution_count": 34,
   "id": "86ee31cd",
   "metadata": {},
   "outputs": [
    {
     "data": {
      "text/plain": [
       "0    0.974684\n",
       "1    0.588889\n",
       "Name: max_updrs_1_cat, dtype: float64"
      ]
     },
     "execution_count": 34,
     "metadata": {},
     "output_type": "execute_result"
    }
   ],
   "source": [
    "max_first_twelve_df1.groupby(['patient_id'])['max_updrs_1_cat'].max().value_counts() / updrs1_cat_df.groupby(['patient_id'])['max_updrs_1_cat'].max().value_counts()"
   ]
  },
  {
   "cell_type": "code",
   "execution_count": 37,
   "id": "e305c887",
   "metadata": {},
   "outputs": [
    {
     "data": {
      "text/plain": [
       "0    0.978022\n",
       "1    0.500000\n",
       "Name: max_updrs_2_cat, dtype: float64"
      ]
     },
     "execution_count": 37,
     "metadata": {},
     "output_type": "execute_result"
    }
   ],
   "source": [
    "max_first_twelve_df2.groupby(['patient_id'])['max_updrs_2_cat'].max().value_counts() / updrs2_cat_df.groupby(['patient_id'])['max_updrs_2_cat'].max().value_counts()"
   ]
  },
  {
   "cell_type": "code",
   "execution_count": 38,
   "id": "e5991792",
   "metadata": {},
   "outputs": [
    {
     "data": {
      "text/plain": [
       "0    0.981818\n",
       "1    0.469880\n",
       "Name: max_updrs_3_cat, dtype: float64"
      ]
     },
     "execution_count": 38,
     "metadata": {},
     "output_type": "execute_result"
    }
   ],
   "source": [
    "max_first_twelve_df3.groupby(['patient_id'])['max_updrs_3_cat'].max().value_counts() / updrs3_cat_df.groupby(['patient_id'])['max_updrs_3_cat'].max().value_counts()"
   ]
  }
 ],
 "metadata": {
  "kernelspec": {
   "display_name": "Python 3 (ipykernel)",
   "language": "python",
   "name": "python3"
  },
  "language_info": {
   "codemirror_mode": {
    "name": "ipython",
    "version": 3
   },
   "file_extension": ".py",
   "mimetype": "text/x-python",
   "name": "python",
   "nbconvert_exporter": "python",
   "pygments_lexer": "ipython3",
   "version": "3.7.9"
  }
 },
 "nbformat": 4,
 "nbformat_minor": 5
}
