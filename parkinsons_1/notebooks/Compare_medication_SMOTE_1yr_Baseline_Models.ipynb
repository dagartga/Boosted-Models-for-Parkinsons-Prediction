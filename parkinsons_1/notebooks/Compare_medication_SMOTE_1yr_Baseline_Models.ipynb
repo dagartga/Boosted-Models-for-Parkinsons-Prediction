{
 "cells": [
  {
   "attachments": {},
   "cell_type": "markdown",
   "metadata": {},
   "source": [
    "## Perform SMOTE and Test the Results with Hyperparameter Tuning"
   ]
  },
  {
   "cell_type": "code",
   "execution_count": 80,
   "metadata": {},
   "outputs": [],
   "source": [
    "import pandas as pd\n",
    "import numpy as np\n",
    "import matplotlib.pyplot as plt\n",
    "import seaborn as sns\n",
    "import pickle\n",
    "import joblib\n",
    "\n",
    "from sklearn.linear_model import LogisticRegression\n",
    "from xgboost import XGBClassifier\n",
    "from lightgbm import LGBMClassifier\n",
    "from catboost import CatBoostClassifier\n",
    "from sklearn.metrics import roc_auc_score, accuracy_score, precision_score, recall_score\n",
    "from sklearn.model_selection import StratifiedKFold\n",
    "from imblearn.over_sampling import SMOTE\n",
    "\n"
   ]
  },
  {
   "cell_type": "code",
   "execution_count": 81,
   "metadata": {},
   "outputs": [],
   "source": [
    "# read in the protein and updrs data\n",
    "updrs1_df = pd.read_csv('../data/processed/train_updrs_1_cat.csv')\n",
    "updrs2_df = pd.read_csv('../data/processed/train_updrs_2_cat.csv')\n",
    "updrs3_df = pd.read_csv('../data/processed/train_updrs_3_cat.csv')"
   ]
  },
  {
   "attachments": {},
   "cell_type": "markdown",
   "metadata": {},
   "source": [
    "## Add the Medication Data to the protein data"
   ]
  },
  {
   "cell_type": "code",
   "execution_count": 82,
   "metadata": {},
   "outputs": [],
   "source": [
    "clin_data = pd.read_csv('../data/raw/train_clinical_data.csv')\n",
    "clin_data['upd23b_clinical_state_on_medication'] = clin_data['upd23b_clinical_state_on_medication'].fillna('Unknown')\n",
    "\n",
    "# get dummies for on_medication column\n",
    "clin_data_dummies = pd.get_dummies(clin_data, columns=['upd23b_clinical_state_on_medication'], drop_first=True)\n",
    "\n",
    "clin_data_dummies = clin_data_dummies[['visit_id', 'upd23b_clinical_state_on_medication_On', 'upd23b_clinical_state_on_medication_Unknown']]\n",
    "\n",
    "# merge the updrs data with the clinical data for dummy columns\n",
    "updrs1_df = pd.merge(updrs1_df, clin_data_dummies, on='visit_id')\n",
    "updrs2_df = pd.merge(updrs2_df, clin_data_dummies, on='visit_id')\n",
    "updrs3_df = pd.merge(updrs3_df, clin_data_dummies, on='visit_id')\n"
   ]
  },
  {
   "cell_type": "code",
   "execution_count": 83,
   "metadata": {},
   "outputs": [
    {
     "data": {
      "text/plain": [
       "mild        854\n",
       "moderate    199\n",
       "severe       15\n",
       "Name: updrs_1_cat, dtype: int64"
      ]
     },
     "execution_count": 83,
     "metadata": {},
     "output_type": "execute_result"
    }
   ],
   "source": [
    "updrs1_df['updrs_1_cat'].value_counts()"
   ]
  },
  {
   "cell_type": "code",
   "execution_count": 84,
   "metadata": {},
   "outputs": [
    {
     "data": {
      "text/plain": [
       "mild        910\n",
       "moderate    158\n",
       "Name: updrs_2_cat, dtype: int64"
      ]
     },
     "execution_count": 84,
     "metadata": {},
     "output_type": "execute_result"
    }
   ],
   "source": [
    "updrs2_df['updrs_2_cat'].value_counts()"
   ]
  },
  {
   "cell_type": "code",
   "execution_count": 85,
   "metadata": {},
   "outputs": [
    {
     "data": {
      "text/plain": [
       "mild        880\n",
       "moderate    168\n",
       "severe       10\n",
       "Name: updrs_3_cat, dtype: int64"
      ]
     },
     "execution_count": 85,
     "metadata": {},
     "output_type": "execute_result"
    }
   ],
   "source": [
    "updrs3_df['updrs_3_cat'].value_counts()"
   ]
  },
  {
   "cell_type": "code",
   "execution_count": 86,
   "metadata": {},
   "outputs": [],
   "source": [
    "# replace the categorical updrs scores with numerical for mild, moderate and severe\n",
    "## combine the moderate and severe categories since there are very few severe observations\n",
    "updrs1_df['updrs_1_cat'] = updrs1_df['updrs_1_cat'].map({'mild': 0, 'moderate': 1, 'severe': 1})\n",
    "updrs2_df['updrs_2_cat'] = updrs2_df['updrs_2_cat'].map({'mild': 0, 'moderate': 1, 'severe': 1})\n",
    "updrs3_df['updrs_3_cat'] = updrs3_df['updrs_3_cat'].map({'mild': 0, 'moderate': 1, 'severe': 1})"
   ]
  },
  {
   "cell_type": "code",
   "execution_count": 87,
   "metadata": {},
   "outputs": [
    {
     "data": {
      "text/plain": [
       "0    880\n",
       "1    178\n",
       "Name: updrs_3_cat, dtype: int64"
      ]
     },
     "execution_count": 87,
     "metadata": {},
     "output_type": "execute_result"
    }
   ],
   "source": [
    "updrs3_df['updrs_3_cat'].value_counts()"
   ]
  },
  {
   "cell_type": "code",
   "execution_count": 88,
   "metadata": {},
   "outputs": [
    {
     "data": {
      "text/plain": [
       "Index(['visit_id', 'patient_id', 'visit_month', 'updrs_3', 'O00391', 'O00533',\n",
       "       'O00584', 'O14498', 'O14773', 'O14791',\n",
       "       ...\n",
       "       'YYC(UniMod_4)FQGNQFLR_P02790', 'YYTYLIMNK_P01024',\n",
       "       'YYWGGQYTWDMAK_P02675', 'kfold', 'num_prot_pep', 'num_prot', 'num_pept',\n",
       "       'updrs_3_cat', 'upd23b_clinical_state_on_medication_On',\n",
       "       'upd23b_clinical_state_on_medication_Unknown'],\n",
       "      dtype='object', length=1206)"
      ]
     },
     "execution_count": 88,
     "metadata": {},
     "output_type": "execute_result"
    }
   ],
   "source": [
    "updrs3_df.columns"
   ]
  },
  {
   "cell_type": "code",
   "execution_count": 89,
   "metadata": {},
   "outputs": [],
   "source": [
    "## create smote function\n",
    "def smote_data(df, target):\n",
    "    \"\"\"\n",
    "    Function to perform SMOTE on a dataframe with a target variable\n",
    "    \"\"\"\n",
    "    # separate the target variable from the dataframe\n",
    "    X = df.drop(columns=target)\n",
    "    y = df[target]\n",
    "    \n",
    "    # perform smote on the data\n",
    "    smote = SMOTE(random_state=42)\n",
    "    X_smote, y_smote = smote.fit_resample(X, y)\n",
    "    \n",
    "    # create a dataframe from the smote data\n",
    "    X_smote_df = pd.DataFrame(X_smote, columns=X.columns)\n",
    "    y_smote_df = pd.DataFrame(y_smote, columns=[target])\n",
    "    \n",
    "    # combine the X and y smote dataframes\n",
    "    smote_df = pd.concat([X_smote_df, y_smote_df], axis=1)\n",
    "    \n",
    "    return smote_df"
   ]
  },
  {
   "cell_type": "code",
   "execution_count": 90,
   "metadata": {},
   "outputs": [],
   "source": [
    "updrs1_df_smote = smote_data(updrs1_df[updrs1_df['kfold']!=0], 'updrs_1_cat')"
   ]
  },
  {
   "cell_type": "code",
   "execution_count": 91,
   "metadata": {},
   "outputs": [],
   "source": [
    "updrs1_test_df = updrs1_df[updrs1_df['kfold']==0]"
   ]
  },
  {
   "cell_type": "code",
   "execution_count": 92,
   "metadata": {},
   "outputs": [
    {
     "data": {
      "text/plain": [
       "1    683\n",
       "0    683\n",
       "Name: updrs_1_cat, dtype: int64"
      ]
     },
     "execution_count": 92,
     "metadata": {},
     "output_type": "execute_result"
    }
   ],
   "source": [
    "updrs1_df_smote['updrs_1_cat'].value_counts()"
   ]
  },
  {
   "cell_type": "code",
   "execution_count": 93,
   "metadata": {},
   "outputs": [],
   "source": [
    "\n",
    "def cross_fold_validation(df, model, target):\n",
    "\n",
    "    updrs_results = dict()\n",
    "    \n",
    "    for fold in range(1, 5):\n",
    "        # get the train and test data for the current fold\n",
    "        train = df[df['kfold'] != fold].reset_index(drop=True)\n",
    "        test = df[df['kfold'] == fold].reset_index(drop=True)\n",
    "\n",
    "        # get the train and test data for the current fold\n",
    "        drop_cols = ['visit_id', 'patient_id', f'{target}', 'kfold', f'{target}_cat']\n",
    "        X_train = train.drop(columns=drop_cols)\n",
    "        y_train = train[f'{target}_cat']\n",
    "        X_test = test.drop(columns=drop_cols)\n",
    "        y_test = test[f'{target}_cat']\n",
    "\n",
    "        # train the model\n",
    "        model.fit(X_train, y_train)\n",
    "\n",
    "        # make predictions\n",
    "        preds = model.predict(X_test)\n",
    "\n",
    "\n",
    "        # save the results\n",
    "        updrs_results[f'{target}_fold_{fold}'] = {\n",
    "            'auc_score': roc_auc_score(y_test, preds),\n",
    "            'acc_score': accuracy_score(y_test, preds),\n",
    "            'precision_score': precision_score(y_test, preds),\n",
    "            'recall_score': recall_score(y_test, preds),\n",
    "        }\n",
    "        \n",
    "    mean_auc = np.mean([updrs_results[f'{target}_fold_{fold}']['auc_score'] for fold in range(1, 5)])\n",
    "    mean_acc = np.mean([updrs_results[f'{target}_fold_{fold}']['acc_score'] for fold in range(1, 5)])\n",
    "    mean_precision = np.mean([updrs_results[f'{target}_fold_{fold}']['precision_score'] for fold in range(1, 5)])\n",
    "    mean_recall = np.mean([updrs_results[f'{target}_fold_{fold}']['recall_score'] for fold in range(1, 5)])\n",
    "    \n",
    "    return mean_auc, mean_acc, mean_precision, mean_recall\n",
    "        \n",
    "    \n",
    "    "
   ]
  },
  {
   "cell_type": "code",
   "execution_count": 94,
   "metadata": {},
   "outputs": [],
   "source": [
    "# test the model function\n",
    "# model = prepare_xgboost_model(xgb_hyperparams_df, 'updrs_1')\n",
    "# model.get_params()"
   ]
  },
  {
   "cell_type": "code",
   "execution_count": 95,
   "metadata": {},
   "outputs": [],
   "source": [
    "xgb_results = dict()\n",
    "\n",
    "for updrs, df in zip(['updrs_1'], [updrs1_df]):\n",
    "    model = XGBClassifier(random_state=42)\n",
    "    auc, acc, prec, recall = cross_fold_validation(df, model, updrs)\n",
    "    xgb_results[updrs] = {\"auc\":auc,\n",
    "                        \"acc\":acc,\n",
    "                        \"prec\":prec,\n",
    "                        \"recall\":recall}"
   ]
  },
  {
   "cell_type": "code",
   "execution_count": 96,
   "metadata": {},
   "outputs": [
    {
     "data": {
      "text/plain": [
       "{'updrs_1': {'auc': 0.6270879562212515,\n",
       "  'acc': 0.8348745118687201,\n",
       "  'prec': 0.7282913165266106,\n",
       "  'recall': 0.280477461770368}}"
      ]
     },
     "execution_count": 96,
     "metadata": {},
     "output_type": "execute_result"
    }
   ],
   "source": [
    "xgb_results"
   ]
  },
  {
   "cell_type": "code",
   "execution_count": 97,
   "metadata": {},
   "outputs": [],
   "source": [
    "model = XGBClassifier(random_state=42)\n",
    "X_train_df = updrs1_df_smote.drop(columns = ['updrs_1_cat', 'visit_id', 'patient_id', 'kfold', 'updrs_1'])\n",
    "y_train_df = updrs1_df_smote['updrs_1_cat']\n",
    "X_test = updrs1_test_df.drop(columns = ['updrs_1_cat', 'visit_id', 'patient_id', 'kfold', 'updrs_1'])\n",
    "y_test = updrs1_test_df['updrs_1_cat']\n",
    "\n",
    "model.fit(X_train_df, y_train_df)\n",
    "\n",
    "preds = model.predict_proba(X_test)[:,-1]"
   ]
  },
  {
   "cell_type": "code",
   "execution_count": 98,
   "metadata": {},
   "outputs": [
    {
     "data": {
      "text/plain": [
       "(0.7783217734258125,\n",
       " 0.822429906542056,\n",
       " 0.5714285714285714,\n",
       " 0.46511627906976744)"
      ]
     },
     "execution_count": 98,
     "metadata": {},
     "output_type": "execute_result"
    }
   ],
   "source": [
    "roc_auc_score(y_test, preds), accuracy_score(y_test, preds>0.4), precision_score(y_test, preds>0.4), recall_score(y_test, preds>0.4)"
   ]
  },
  {
   "cell_type": "code",
   "execution_count": 99,
   "metadata": {},
   "outputs": [],
   "source": [
    "def plot_precision_recall_accuracy(y_test, preds, updrs, model_name):\n",
    "    thresholds = np.linspace(0, 1.0, num=100)  # Generating 100 threshold values between 0 and 1.0\n",
    "    precisions = []\n",
    "    recalls = []\n",
    "    accuracies = []\n",
    "    f1 = []\n",
    "\n",
    "    for threshold in thresholds:\n",
    "        # Convert probabilities to binary predictions based on the threshold\n",
    "        binary_preds = np.where(preds >= threshold, 1, 0)\n",
    "\n",
    "        # Calculate precision, recall, and accuracy scores\n",
    "        precision = precision_score(y_test, binary_preds)\n",
    "        recall = recall_score(y_test, binary_preds)\n",
    "        accuracy = accuracy_score(y_test, binary_preds)\n",
    "        f1_score = 2 * (precision * recall) / (precision + recall)\n",
    "\n",
    "        # Append scores to the respective lists\n",
    "        precisions.append(precision)\n",
    "        recalls.append(recall)\n",
    "        accuracies.append(accuracy)\n",
    "        f1.append(f1_score)\n",
    "\n",
    "    # Plot precision, recall, and accuracy against thresholds\n",
    "    plt.plot(thresholds, precisions, label='Precision')\n",
    "    plt.plot(thresholds, recalls, label='Recall')\n",
    "    plt.plot(thresholds, accuracies, label='Accuracy')\n",
    "    plt.plot(thresholds, f1, label='F1 Score')\n",
    "\n",
    "    plt.xlabel('Threshold')\n",
    "    plt.ylabel('Score')\n",
    "    plt.title(f'{model_name} - {updrs}: Precision, Recall, F1 and Accuracy for Thresholds')\n",
    "    plt.legend()\n",
    "    plt.grid(True)\n",
    "    plt.show()\n",
    "    \n",
    "    return max(f1), thresholds[f1.index(max(f1))]\n",
    "    "
   ]
  },
  {
   "cell_type": "code",
   "execution_count": 100,
   "metadata": {},
   "outputs": [
    {
     "name": "stderr",
     "output_type": "stream",
     "text": [
      "c:\\Users\\Dagart\\anaconda3\\lib\\site-packages\\sklearn\\metrics\\_classification.py:1318: UndefinedMetricWarning: Precision is ill-defined and being set to 0.0 due to no predicted samples. Use `zero_division` parameter to control this behavior.\n",
      "  _warn_prf(average, modifier, msg_start, len(result))\n",
      "c:\\Users\\Dagart\\anaconda3\\lib\\site-packages\\ipykernel_launcher.py:16: RuntimeWarning: invalid value encountered in double_scalars\n",
      "  app.launch_new_instance()\n"
     ]
    },
    {
     "data": {
      "image/png": "[encoded data removed]",
      "text/plain": [
       "<Figure size 432x288 with 1 Axes>"
      ]
     },
     "metadata": {
      "needs_background": "light"
     },
     "output_type": "display_data"
    }
   ],
   "source": [
    "max_f1, thresh_ind = plot_precision_recall_accuracy(y_test, preds, \"updrs_1\", \"XGBoost\")"
   ]
  },
  {
   "cell_type": "code",
   "execution_count": 101,
   "metadata": {},
   "outputs": [
    {
     "data": {
      "text/plain": [
       "(0.674078607371141, 0.7990654205607477, 0.5, 0.46511627906976744)"
      ]
     },
     "execution_count": 101,
     "metadata": {},
     "output_type": "execute_result"
    }
   ],
   "source": [
    "roc_auc_score(y_test, preds>0.33), accuracy_score(y_test, preds>0.33), precision_score(y_test, preds>0.33), recall_score(y_test, preds>0.33)"
   ]
  },
  {
   "attachments": {},
   "cell_type": "markdown",
   "metadata": {},
   "source": [
    "## View XGBoost Results with Forecasting the UPDRS"
   ]
  },
  {
   "cell_type": "code",
   "execution_count": 102,
   "metadata": {},
   "outputs": [],
   "source": [
    "# get the max category for each patient\n",
    "max_df = updrs1_df.groupby(['patient_id'])['updrs_1_cat'].max().reset_index()\n",
    "max_df = max_df.rename(columns={'updrs_1_cat': 'updrs_1_max_cat'})\n",
    "# merge the max category with the original dataframe\n",
    "updrs1_df = updrs1_df.merge(max_df, on=['patient_id'], how='left')\n",
    "# take only the visit months that are 12 or less\n",
    "updrs1_yr_df = updrs1_df[updrs1_df['visit_month'] <= 12]\n",
    "updrs1_yr_df = updrs1_yr_df.drop(columns=['updrs_1_cat'])\n",
    "updrs1_yr_df.rename(columns={'updrs_1_max_cat': 'updrs_1_cat'}, inplace=True)"
   ]
  },
  {
   "cell_type": "code",
   "execution_count": 103,
   "metadata": {},
   "outputs": [],
   "source": [
    "# get the max category for each patient\n",
    "max_df = updrs2_df.groupby(['patient_id'])['updrs_2_cat'].max().reset_index()\n",
    "max_df = max_df.rename(columns={'updrs_2_cat': 'updrs_2_max_cat'})\n",
    "# merge the max category with the original dataframe\n",
    "updrs2_df = updrs2_df.merge(max_df, on=['patient_id'], how='left')\n",
    "# take only the visit months that are 12 or less\n",
    "updrs2_yr_df = updrs2_df[updrs2_df['visit_month'] <= 12]\n",
    "updrs2_yr_df = updrs2_yr_df.drop(columns=['updrs_2_cat'])\n",
    "updrs2_yr_df.rename(columns={'updrs_2_max_cat': 'updrs_2_cat'}, inplace=True)"
   ]
  },
  {
   "cell_type": "code",
   "execution_count": 104,
   "metadata": {},
   "outputs": [],
   "source": [
    "# get the max category for each patient\n",
    "max_df = updrs3_df.groupby(['patient_id'])['updrs_3_cat'].max().reset_index()\n",
    "max_df = max_df.rename(columns={'updrs_3_cat': 'updrs_3_max_cat'})\n",
    "# merge the max category with the original dataframe\n",
    "updrs3_df = updrs3_df.merge(max_df, on=['patient_id'], how='left')\n",
    "# take only the visit months that are 12 or less\n",
    "updrs3_yr_df = updrs3_df[updrs3_df['visit_month'] <= 12]\n",
    "updrs3_yr_df = updrs3_yr_df.drop(columns=['updrs_3_cat'])\n",
    "updrs3_yr_df.rename(columns={'updrs_3_max_cat': 'updrs_3_cat'}, inplace=True)"
   ]
  },
  {
   "cell_type": "code",
   "execution_count": 105,
   "metadata": {},
   "outputs": [],
   "source": [
    "updrs1_yr_test = updrs1_yr_df[updrs1_yr_df['kfold']==0]\n",
    "updrs2_yr_test = updrs2_yr_df[updrs2_yr_df['kfold']==0]\n",
    "updrs3_yr_test = updrs3_yr_df[updrs3_yr_df['kfold']==0]\n",
    "\n",
    "updrs1_yr_df_smote = smote_data(updrs1_yr_df[updrs1_yr_df['kfold']!=0], 'updrs_1_cat')\n",
    "updrs2_yr_df_smote = smote_data(updrs2_yr_df[updrs2_yr_df['kfold']!=0], 'updrs_2_cat')\n",
    "updrs3_yr_df_smote = smote_data(updrs3_yr_df[updrs3_yr_df['kfold']!=0], 'updrs_3_cat')"
   ]
  },
  {
   "cell_type": "code",
   "execution_count": 106,
   "metadata": {},
   "outputs": [
    {
     "name": "stdout",
     "output_type": "stream",
     "text": [
      "UPDRS: updrs_1\n",
      "Hyperparameters: {'objective': 'binary:logistic', 'use_label_encoder': False, 'base_score': None, 'booster': None, 'callbacks': None, 'colsample_bylevel': None, 'colsample_bynode': None, 'colsample_bytree': None, 'early_stopping_rounds': None, 'enable_categorical': False, 'eval_metric': None, 'gamma': None, 'gpu_id': None, 'grow_policy': None, 'importance_type': None, 'interaction_constraints': None, 'learning_rate': None, 'max_bin': None, 'max_cat_to_onehot': None, 'max_delta_step': None, 'max_depth': None, 'max_leaves': None, 'min_child_weight': None, 'missing': nan, 'monotone_constraints': None, 'n_estimators': 100, 'n_jobs': None, 'num_parallel_tree': None, 'predictor': None, 'random_state': 42, 'reg_alpha': None, 'reg_lambda': None, 'sampling_method': None, 'scale_pos_weight': None, 'subsample': None, 'tree_method': None, 'validate_parameters': None, 'verbosity': None}\n",
      "\n",
      "\n",
      "UPDRS: updrs_2\n",
      "Hyperparameters: {'objective': 'binary:logistic', 'use_label_encoder': False, 'base_score': None, 'booster': None, 'callbacks': None, 'colsample_bylevel': None, 'colsample_bynode': None, 'colsample_bytree': None, 'early_stopping_rounds': None, 'enable_categorical': False, 'eval_metric': None, 'gamma': None, 'gpu_id': None, 'grow_policy': None, 'importance_type': None, 'interaction_constraints': None, 'learning_rate': None, 'max_bin': None, 'max_cat_to_onehot': None, 'max_delta_step': None, 'max_depth': None, 'max_leaves': None, 'min_child_weight': None, 'missing': nan, 'monotone_constraints': None, 'n_estimators': 100, 'n_jobs': None, 'num_parallel_tree': None, 'predictor': None, 'random_state': 42, 'reg_alpha': None, 'reg_lambda': None, 'sampling_method': None, 'scale_pos_weight': None, 'subsample': None, 'tree_method': None, 'validate_parameters': None, 'verbosity': None}\n",
      "\n",
      "\n",
      "UPDRS: updrs_3\n",
      "Hyperparameters: {'objective': 'binary:logistic', 'use_label_encoder': False, 'base_score': None, 'booster': None, 'callbacks': None, 'colsample_bylevel': None, 'colsample_bynode': None, 'colsample_bytree': None, 'early_stopping_rounds': None, 'enable_categorical': False, 'eval_metric': None, 'gamma': None, 'gpu_id': None, 'grow_policy': None, 'importance_type': None, 'interaction_constraints': None, 'learning_rate': None, 'max_bin': None, 'max_cat_to_onehot': None, 'max_delta_step': None, 'max_depth': None, 'max_leaves': None, 'min_child_weight': None, 'missing': nan, 'monotone_constraints': None, 'n_estimators': 100, 'n_jobs': None, 'num_parallel_tree': None, 'predictor': None, 'random_state': 42, 'reg_alpha': None, 'reg_lambda': None, 'sampling_method': None, 'scale_pos_weight': None, 'subsample': None, 'tree_method': None, 'validate_parameters': None, 'verbosity': None}\n",
      "\n",
      "\n"
     ]
    }
   ],
   "source": [
    "xgb_forecast_results = dict()\n",
    "\n",
    "for updrs, df in zip(['updrs_1', 'updrs_2', 'updrs_3'], [updrs1_yr_df_smote, updrs2_yr_df_smote, updrs3_yr_df_smote]):\n",
    "    model = XGBClassifier(random_state=42)\n",
    "    print(f'UPDRS: {updrs}')\n",
    "    print(f'Hyperparameters: {model.get_params()}')\n",
    "    print('\\n')\n",
    "    auc, acc, prec, recall = cross_fold_validation(df, model, updrs)\n",
    "    xgb_forecast_results[updrs] = {\"auc\":auc,\n",
    "                        \"acc\":acc,\n",
    "                        \"prec\":prec,\n",
    "                        \"recall\":recall}"
   ]
  },
  {
   "cell_type": "code",
   "execution_count": 107,
   "metadata": {},
   "outputs": [
    {
     "data": {
      "text/plain": [
       "{'updrs_1': {'auc': 0.7334255520314714,\n",
       "  'acc': 0.7348723222303954,\n",
       "  'prec': 0.7497132554945056,\n",
       "  'recall': 0.6926445578231293},\n",
       " 'updrs_2': {'auc': 0.8374196066126336,\n",
       "  'acc': 0.8359824521195153,\n",
       "  'prec': 0.8676710253853823,\n",
       "  'recall': 0.7918956043956045},\n",
       " 'updrs_3': {'auc': 0.7132190143923913,\n",
       "  'acc': 0.7104958496803848,\n",
       "  'prec': 0.7494863467656416,\n",
       "  'recall': 0.6450945913170021}}"
      ]
     },
     "execution_count": 107,
     "metadata": {},
     "output_type": "execute_result"
    }
   ],
   "source": [
    "xgb_forecast_results"
   ]
  },
  {
   "cell_type": "code",
   "execution_count": 108,
   "metadata": {},
   "outputs": [],
   "source": [
    "\n",
    "\n",
    "def create_folds(df, target):\n",
    "    # calculate the number of bins by Sturge's rule\n",
    "    num_bins = int(np.floor(1 + np.log2(len(df))))\n",
    "    df.loc[:, \"bins\"] = pd.cut(df[f'{updrs}_cat'], bins=num_bins, labels=False)\n",
    "\n",
    "    df = df.dropna().reset_index(drop=True)\n",
    "        \n",
    "    # initiate the kfold class from sklearn\n",
    "    kf = StratifiedKFold(n_splits=5)\n",
    "        \n",
    "    # create a kfold column\n",
    "    df['kfold'] = -1\n",
    "\n",
    "    # fill the kfold column\n",
    "    for f, (t_, v_) in enumerate(kf.split(X=df, y=df['bins'].values)):\n",
    "        df.loc[v_, 'kfold'] = f\n",
    "            \n",
    "    # drop the bins column\n",
    "    df = df.drop('bins', axis=1)\n",
    "    max_kfold = df['kfold'].max()\n",
    "    \n",
    "    print(f'{max_kfold + 1} Kfolds created for {target}_cat')\n",
    "    return df, max_kfold"
   ]
  },
  {
   "cell_type": "code",
   "execution_count": 109,
   "metadata": {},
   "outputs": [],
   "source": [
    "def train_xgboost(train_df, test_df, updrs, model):\n",
    "    features = train_df.drop([f'{updrs}_cat', 'kfold'], axis=1)\n",
    "    target = train_df[f'{updrs}_cat']\n",
    "    X_test = test_df.drop([f'{updrs}_cat', 'kfold'], axis=1)\n",
    "    y_test = test_df[f'{updrs}_cat']\n",
    "\n",
    "\n",
    "    model.fit(features, target)\n",
    "    \n",
    "    # Make predictions on the test data\n",
    "    predictions = model.predict_proba(X_test)[:, 1]\n",
    "\n",
    "    # Evaluate AUC on the test data\n",
    "    auc = roc_auc_score(y_test, predictions)\n",
    "    print(\"AUC on Test Data:\", auc)\n",
    "\n",
    "\n",
    "    # Save the trained model to a file\n",
    "    filename =f'../models/xgboost_{updrs}_model_baseline_meds.sav'\n",
    "    pickle.dump(model, open(filename, 'wb'))\n",
    "\n",
    "    return model"
   ]
  },
  {
   "cell_type": "code",
   "execution_count": 110,
   "metadata": {},
   "outputs": [
    {
     "name": "stdout",
     "output_type": "stream",
     "text": [
      "AUC on Test Data: 0.7447280799112097\n",
      "updrs_1 Results: \n",
      "Test AUC = 0.7447280799112097 \n",
      "Train AUC = 1.0\n",
      "\n",
      "AUC on Test Data: 0.8577777777777778\n",
      "updrs_2 Results: \n",
      "Test AUC = 0.8577777777777778 \n",
      "Train AUC = 1.0\n",
      "\n",
      "AUC on Test Data: 0.7317216981132075\n",
      "updrs_3 Results: \n",
      "Test AUC = 0.7317216981132075 \n",
      "Train AUC = 1.0\n",
      "\n"
     ]
    }
   ],
   "source": [
    "for updrs, df, test_df in zip(['updrs_1', 'updrs_2', 'updrs_3'], \n",
    "                     [updrs1_yr_df_smote, updrs2_yr_df_smote, updrs3_yr_df_smote],\n",
    "                     [updrs1_yr_test, updrs2_yr_test, updrs3_yr_test]):\n",
    "    model = XGBClassifier(random_state=42)\n",
    "    train_df = df.drop(columns=['visit_id', 'patient_id', f'{updrs}'])\n",
    "    test_df = test_df.drop(columns=['visit_id', 'patient_id', f'{updrs}'])\n",
    "    y_test = test_df[f'{updrs}_cat']\n",
    "    y_train = train_df[f'{updrs}_cat']\n",
    "    \n",
    "    best_model = train_xgboost(train_df, test_df, updrs, model)\n",
    "    # compare the results of the model\n",
    "    X_test = test_df.drop(columns=[f'{updrs}_cat', 'kfold'])\n",
    "    test_preds = best_model.predict_proba(X_test)[:, 1]\n",
    "\n",
    "    test_auc = roc_auc_score(y_test, test_preds)\n",
    "    X_train = train_df.drop(columns=[f'{updrs}_cat', 'kfold'])\n",
    "    train_preds = best_model.predict(X_train)\n",
    "    train_auc = roc_auc_score(y_train, train_preds)\n",
    "    print(f'{updrs} Results: \\nTest AUC = {test_auc} \\nTrain AUC = {train_auc}\\n')\n",
    "    \n"
   ]
  },
  {
   "cell_type": "code",
   "execution_count": 111,
   "metadata": {},
   "outputs": [
    {
     "name": "stderr",
     "output_type": "stream",
     "text": [
      "c:\\Users\\Dagart\\anaconda3\\lib\\site-packages\\sklearn\\metrics\\_classification.py:1318: UndefinedMetricWarning: Precision is ill-defined and being set to 0.0 due to no predicted samples. Use `zero_division` parameter to control this behavior.\n",
      "  _warn_prf(average, modifier, msg_start, len(result))\n",
      "c:\\Users\\Dagart\\anaconda3\\lib\\site-packages\\ipykernel_launcher.py:16: RuntimeWarning: invalid value encountered in double_scalars\n",
      "  app.launch_new_instance()\n"
     ]
    },
    {
     "data": {
      "image/png": "[encoded data removed]",
      "text/plain": [
       "<Figure size 432x288 with 1 Axes>"
      ]
     },
     "metadata": {
      "needs_background": "light"
     },
     "output_type": "display_data"
    },
    {
     "name": "stdout",
     "output_type": "stream",
     "text": [
      "ROC-AUC: 0.7447280799112097 \n",
      "Accuracy: 0.6896551724137931 \n",
      "Precision: 0.5813953488372093 \n",
      "Recall: 0.7352941176470589 \n",
      "Threshold: 0.21\n"
     ]
    }
   ],
   "source": [
    "# Load the saved model\n",
    "model = joblib.load('../models/xgboost_updrs_1_model_baseline_meds.sav')\n",
    "\n",
    "# Make predictions on the test data\n",
    "X_test1 = updrs1_yr_test.drop(columns=['updrs_1_cat', 'kfold', 'visit_id', 'patient_id', 'updrs_1'])\n",
    "y_test1 = updrs1_yr_test['updrs_1_cat']\n",
    "\n",
    "preds = model.predict_proba(X_test1)[:, 1]\n",
    "\n",
    "\n",
    "plot_precision_recall_accuracy(y_test1, preds, 'UPDRS 1', 'XGBoost')\n",
    "\n",
    "print(\"ROC-AUC:\", roc_auc_score(y_test1, preds),\\\n",
    "    \"\\nAccuracy:\", accuracy_score(y_test1, preds>0.21), \\\n",
    "    \"\\nPrecision:\", precision_score(y_test1, preds>0.21), \\\n",
    "    \"\\nRecall:\", recall_score(y_test1, preds>0.21), \\\n",
    "        \"\\nThreshold: 0.21\")"
   ]
  },
  {
   "cell_type": "code",
   "execution_count": 112,
   "metadata": {},
   "outputs": [
    {
     "name": "stdout",
     "output_type": "stream",
     "text": [
      "0.8577777777777778 0.8409090909090909 0.72 0.72\n"
     ]
    },
    {
     "name": "stderr",
     "output_type": "stream",
     "text": [
      "c:\\Users\\Dagart\\anaconda3\\lib\\site-packages\\sklearn\\metrics\\_classification.py:1318: UndefinedMetricWarning: Precision is ill-defined and being set to 0.0 due to no predicted samples. Use `zero_division` parameter to control this behavior.\n",
      "  _warn_prf(average, modifier, msg_start, len(result))\n",
      "c:\\Users\\Dagart\\anaconda3\\lib\\site-packages\\ipykernel_launcher.py:16: RuntimeWarning: invalid value encountered in double_scalars\n",
      "  app.launch_new_instance()\n",
      "c:\\Users\\Dagart\\anaconda3\\lib\\site-packages\\sklearn\\metrics\\_classification.py:1318: UndefinedMetricWarning: Precision is ill-defined and being set to 0.0 due to no predicted samples. Use `zero_division` parameter to control this behavior.\n",
      "  _warn_prf(average, modifier, msg_start, len(result))\n",
      "c:\\Users\\Dagart\\anaconda3\\lib\\site-packages\\ipykernel_launcher.py:16: RuntimeWarning: invalid value encountered in double_scalars\n",
      "  app.launch_new_instance()\n"
     ]
    },
    {
     "data": {
      "image/png": "[encoded data removed]",
      "text/plain": [
       "<Figure size 432x288 with 1 Axes>"
      ]
     },
     "metadata": {
      "needs_background": "light"
     },
     "output_type": "display_data"
    },
    {
     "name": "stdout",
     "output_type": "stream",
     "text": [
      "ROC-AUC: 0.8577777777777778 \n",
      "Accuracy: 0.8409090909090909 \n",
      "Precision: 0.72 \n",
      "Recall: 0.72 \n",
      "Threshold: 0.33\n"
     ]
    }
   ],
   "source": [
    "# Load the saved model\n",
    "model = joblib.load('../models/xgboost_updrs_2_model_baseline_meds.sav')\n",
    "\n",
    "# Make predictions on the test data\n",
    "X_test2 = updrs2_yr_test.drop(columns=['updrs_2_cat', 'kfold', 'visit_id', 'patient_id', 'updrs_2'])\n",
    "y_test2 = updrs2_yr_test['updrs_2_cat']\n",
    "\n",
    "preds = model.predict_proba(X_test2)[:, 1]\n",
    "\n",
    "print(roc_auc_score(y_test2, preds), accuracy_score(y_test2, preds>0.33), precision_score(y_test2, preds>0.33), recall_score(y_test2, preds>0.33))\n",
    "\n",
    "plot_precision_recall_accuracy(y_test2, preds, 'UPDRS 2', 'XGBoost')\n",
    "\n",
    "print(\"ROC-AUC:\", roc_auc_score(y_test2, preds),\\\n",
    "    \"\\nAccuracy:\", accuracy_score(y_test2, preds>0.33), \\\n",
    "    \"\\nPrecision:\", precision_score(y_test2, preds>0.33), \\\n",
    "    \"\\nRecall:\", recall_score(y_test2, preds>0.33), \\\n",
    "    \"\\nThreshold: 0.33\")"
   ]
  },
  {
   "cell_type": "code",
   "execution_count": 113,
   "metadata": {},
   "outputs": [
    {
     "name": "stdout",
     "output_type": "stream",
     "text": [
      "0.7317216981132075 0.611764705882353 0.49122807017543857 0.875\n"
     ]
    },
    {
     "name": "stderr",
     "output_type": "stream",
     "text": [
      "c:\\Users\\Dagart\\anaconda3\\lib\\site-packages\\sklearn\\metrics\\_classification.py:1318: UndefinedMetricWarning: Precision is ill-defined and being set to 0.0 due to no predicted samples. Use `zero_division` parameter to control this behavior.\n",
      "  _warn_prf(average, modifier, msg_start, len(result))\n",
      "c:\\Users\\Dagart\\anaconda3\\lib\\site-packages\\ipykernel_launcher.py:16: RuntimeWarning: invalid value encountered in double_scalars\n",
      "  app.launch_new_instance()\n",
      "c:\\Users\\Dagart\\anaconda3\\lib\\site-packages\\sklearn\\metrics\\_classification.py:1318: UndefinedMetricWarning: Precision is ill-defined and being set to 0.0 due to no predicted samples. Use `zero_division` parameter to control this behavior.\n",
      "  _warn_prf(average, modifier, msg_start, len(result))\n",
      "c:\\Users\\Dagart\\anaconda3\\lib\\site-packages\\ipykernel_launcher.py:16: RuntimeWarning: invalid value encountered in double_scalars\n",
      "  app.launch_new_instance()\n"
     ]
    },
    {
     "data": {
      "image/png": "[encoded data removed]",
      "text/plain": [
       "<Figure size 432x288 with 1 Axes>"
      ]
     },
     "metadata": {
      "needs_background": "light"
     },
     "output_type": "display_data"
    },
    {
     "name": "stdout",
     "output_type": "stream",
     "text": [
      "ROC-AUC: 0.7317216981132075 \n",
      "Accuracy: 0.6470588235294118 \n",
      "Precision: 0.52 \n",
      "Recall: 0.8125 \n",
      "Threshold: 0.12\n"
     ]
    }
   ],
   "source": [
    "# Load the saved model\n",
    "model = joblib.load('../models/xgboost_updrs_3_model_baseline_meds.sav')\n",
    "\n",
    "# Make predictions on the test data\n",
    "X_test3 = updrs3_yr_test.drop(columns=['updrs_3_cat', 'kfold', 'visit_id', 'patient_id', 'updrs_3'])\n",
    "y_test3 = updrs3_yr_test['updrs_3_cat']\n",
    "\n",
    "preds = model.predict_proba(X_test3)[:, 1]\n",
    "\n",
    "print(roc_auc_score(y_test3, preds), accuracy_score(y_test3, preds>0.1), precision_score(y_test3, preds>0.1), recall_score(y_test3, preds>0.1))\n",
    "\n",
    "plot_precision_recall_accuracy(y_test3, preds, 'UPDRS 3', 'XGBoost')\n",
    "\n",
    "print(\"ROC-AUC:\", roc_auc_score(y_test3, preds),\\\n",
    "    \"\\nAccuracy:\", accuracy_score(y_test3, preds>0.12), \\\n",
    "    \"\\nPrecision:\", precision_score(y_test3, preds>0.12), \\\n",
    "    \"\\nRecall:\", recall_score(y_test3, preds>0.12), \\\n",
    "    \"\\nThreshold: 0.12\")\n"
   ]
  },
  {
   "attachments": {},
   "cell_type": "markdown",
   "metadata": {},
   "source": [
    "## LGBoost Future Categorical Predictions"
   ]
  },
  {
   "cell_type": "code",
   "execution_count": 114,
   "metadata": {},
   "outputs": [],
   "source": [
    "def train_lgboost(train_df, test_df, updrs, model):\n",
    "    features = train_df.drop([f'{updrs}_cat', 'kfold'], axis=1)\n",
    "    target = train_df[f'{updrs}_cat']\n",
    "    X_test = test_df.drop([f'{updrs}_cat', 'kfold'], axis=1)\n",
    "    y_test = test_df[f'{updrs}_cat']\n",
    "\n",
    "\n",
    "    model.fit(features, target)\n",
    "    \n",
    "    # Make predictions on the test data\n",
    "    predictions = model.predict_proba(X_test)[:, 1]\n",
    "\n",
    "    # Evaluate AUC on the test data\n",
    "    auc = roc_auc_score(y_test, predictions)\n",
    "    print(\"AUC on Test Data:\", auc)\n",
    "\n",
    "\n",
    "    # Save the trained model to a file\n",
    "    filename = f'../models/lgboost_{updrs}_model_baseline_meds.pkl'\n",
    "    joblib.dump(model, filename)\n",
    "\n",
    "    return model"
   ]
  },
  {
   "cell_type": "code",
   "execution_count": 115,
   "metadata": {},
   "outputs": [
    {
     "name": "stdout",
     "output_type": "stream",
     "text": [
      "AUC on Test Data: 0.7635960044395116\n",
      "updrs_1 Results: \n",
      "Test AUC = 0.7635960044395116 \n",
      "Train AUC = 1.0\n",
      "\n",
      "AUC on Test Data: 0.8634920634920635\n",
      "updrs_2 Results: \n",
      "Test AUC = 0.8634920634920635 \n",
      "Train AUC = 1.0\n",
      "\n",
      "AUC on Test Data: 0.7110849056603773\n",
      "updrs_3 Results: \n",
      "Test AUC = 0.7110849056603773 \n",
      "Train AUC = 1.0\n",
      "\n"
     ]
    }
   ],
   "source": [
    "for updrs, df, test_df in zip(['updrs_1', 'updrs_2', 'updrs_3'], \n",
    "                     [updrs1_yr_df_smote, updrs2_yr_df_smote, updrs3_yr_df_smote],\n",
    "                     [updrs1_yr_test, updrs2_yr_test, updrs3_yr_test]):\n",
    "    model = LGBMClassifier(random_state=42)\n",
    "    train_df = df.drop(columns=['visit_id', 'patient_id', f'{updrs}'])\n",
    "    test_df = test_df.drop(columns=['visit_id', 'patient_id', f'{updrs}'])\n",
    "    y_test = test_df[f'{updrs}_cat']\n",
    "    y_train = train_df[f'{updrs}_cat']\n",
    "    \n",
    "    best_model = train_lgboost(train_df, test_df, updrs, model)\n",
    "    # compare the results of the model\n",
    "    X_test = test_df.drop(columns=[f'{updrs}_cat', 'kfold'])\n",
    "    test_preds = best_model.predict_proba(X_test)[:, 1]\n",
    "\n",
    "    test_auc = roc_auc_score(y_test, test_preds)\n",
    "    X_train = train_df.drop(columns=[f'{updrs}_cat', 'kfold'])\n",
    "    train_preds = best_model.predict(X_train)\n",
    "    train_auc = roc_auc_score(y_train, train_preds)\n",
    "    print(f'{updrs} Results: \\nTest AUC = {test_auc} \\nTrain AUC = {train_auc}\\n')\n",
    "    \n"
   ]
  },
  {
   "cell_type": "code",
   "execution_count": 116,
   "metadata": {},
   "outputs": [
    {
     "name": "stdout",
     "output_type": "stream",
     "text": [
      "0.7635960044395116 0.7126436781609196 0.6097560975609756 0.7352941176470589\n"
     ]
    },
    {
     "name": "stderr",
     "output_type": "stream",
     "text": [
      "c:\\Users\\Dagart\\anaconda3\\lib\\site-packages\\sklearn\\metrics\\_classification.py:1318: UndefinedMetricWarning: Precision is ill-defined and being set to 0.0 due to no predicted samples. Use `zero_division` parameter to control this behavior.\n",
      "  _warn_prf(average, modifier, msg_start, len(result))\n",
      "c:\\Users\\Dagart\\anaconda3\\lib\\site-packages\\ipykernel_launcher.py:16: RuntimeWarning: invalid value encountered in double_scalars\n",
      "  app.launch_new_instance()\n"
     ]
    },
    {
     "data": {
      "image/png": "[encoded data removed]",
      "text/plain": [
       "<Figure size 432x288 with 1 Axes>"
      ]
     },
     "metadata": {
      "needs_background": "light"
     },
     "output_type": "display_data"
    },
    {
     "name": "stdout",
     "output_type": "stream",
     "text": [
      "ROC-AUC: 0.7635960044395116 \n",
      "Accuracy: 0.735632183908046 \n",
      "Precision: 0.6486486486486487 \n",
      "Recall: 0.7058823529411765 \n",
      "Threshold: 0.3\n"
     ]
    }
   ],
   "source": [
    "# Load the saved model\n",
    "model = joblib.load('../models/lgboost_updrs_1_model_baseline_meds.pkl')\n",
    "\n",
    "# Make predictions on the test data\n",
    "X_test1 = updrs1_yr_test.drop(columns=['updrs_1_cat', 'kfold', 'visit_id', 'patient_id', 'updrs_1'])\n",
    "y_test1 = updrs1_yr_test['updrs_1_cat']\n",
    "\n",
    "preds = model.predict_proba(X_test1)[:, 1]\n",
    "\n",
    "print(roc_auc_score(y_test1, preds), accuracy_score(y_test1, preds>0.25), precision_score(y_test1, preds>0.25), recall_score(y_test1, preds>0.25))\n",
    "\n",
    "plot_precision_recall_accuracy(y_test1, preds, 'UPDRS 1', 'LightGBM')\n",
    "\n",
    "print(\"ROC-AUC:\", roc_auc_score(y_test1, preds),\\\n",
    "    \"\\nAccuracy:\", accuracy_score(y_test1, preds>0.3), \\\n",
    "    \"\\nPrecision:\", precision_score(y_test1, preds>0.3), \\\n",
    "    \"\\nRecall:\", recall_score(y_test1, preds>0.3), \\\n",
    "    \"\\nThreshold: 0.3\")"
   ]
  },
  {
   "cell_type": "code",
   "execution_count": 117,
   "metadata": {},
   "outputs": [
    {
     "name": "stderr",
     "output_type": "stream",
     "text": [
      "c:\\Users\\Dagart\\anaconda3\\lib\\site-packages\\sklearn\\metrics\\_classification.py:1318: UndefinedMetricWarning: Precision is ill-defined and being set to 0.0 due to no predicted samples. Use `zero_division` parameter to control this behavior.\n",
      "  _warn_prf(average, modifier, msg_start, len(result))\n",
      "c:\\Users\\Dagart\\anaconda3\\lib\\site-packages\\ipykernel_launcher.py:16: RuntimeWarning: invalid value encountered in double_scalars\n",
      "  app.launch_new_instance()\n"
     ]
    },
    {
     "data": {
      "image/png": "[encoded data removed]",
      "text/plain": [
       "<Figure size 432x288 with 1 Axes>"
      ]
     },
     "metadata": {
      "needs_background": "light"
     },
     "output_type": "display_data"
    },
    {
     "name": "stdout",
     "output_type": "stream",
     "text": [
      "ROC-AUC: 0.8634920634920635 \n",
      "Accuracy: 0.8295454545454546 \n",
      "Precision: 0.7083333333333334 \n",
      "Recall: 0.68 \n",
      "Threshold: 0.31\n"
     ]
    }
   ],
   "source": [
    "\n",
    "# Load the saved model\n",
    "model = joblib.load('../models/lgboost_updrs_2_model_baseline_meds.pkl')\n",
    "\n",
    "# Make predictions on the test data\n",
    "X_test2 = updrs2_yr_test.drop(columns=['updrs_2_cat', 'kfold', 'visit_id', 'patient_id', 'updrs_2'])\n",
    "y_test2 = updrs2_yr_test['updrs_2_cat']\n",
    "\n",
    "preds = model.predict_proba(X_test2)[:, 1]\n",
    "\n",
    "\n",
    "plot_precision_recall_accuracy(y_test2, preds, 'UPDRS 2', 'LightGBM')\n",
    "\n",
    "print(\"ROC-AUC:\", roc_auc_score(y_test2, preds),\\\n",
    "    \"\\nAccuracy:\", accuracy_score(y_test2, preds>0.31), \\\n",
    "    \"\\nPrecision:\", precision_score(y_test2, preds>0.31), \\\n",
    "    \"\\nRecall:\", recall_score(y_test2, preds>0.31), \\\n",
    "    \"\\nThreshold: 0.31\")\n"
   ]
  },
  {
   "cell_type": "code",
   "execution_count": 118,
   "metadata": {},
   "outputs": [
    {
     "name": "stderr",
     "output_type": "stream",
     "text": [
      "c:\\Users\\Dagart\\anaconda3\\lib\\site-packages\\ipykernel_launcher.py:16: RuntimeWarning: invalid value encountered in double_scalars\n",
      "  app.launch_new_instance()\n",
      "c:\\Users\\Dagart\\anaconda3\\lib\\site-packages\\sklearn\\metrics\\_classification.py:1318: UndefinedMetricWarning: Precision is ill-defined and being set to 0.0 due to no predicted samples. Use `zero_division` parameter to control this behavior.\n",
      "  _warn_prf(average, modifier, msg_start, len(result))\n",
      "c:\\Users\\Dagart\\anaconda3\\lib\\site-packages\\ipykernel_launcher.py:16: RuntimeWarning: invalid value encountered in double_scalars\n",
      "  app.launch_new_instance()\n",
      "c:\\Users\\Dagart\\anaconda3\\lib\\site-packages\\sklearn\\metrics\\_classification.py:1318: UndefinedMetricWarning: Precision is ill-defined and being set to 0.0 due to no predicted samples. Use `zero_division` parameter to control this behavior.\n",
      "  _warn_prf(average, modifier, msg_start, len(result))\n",
      "c:\\Users\\Dagart\\anaconda3\\lib\\site-packages\\ipykernel_launcher.py:16: RuntimeWarning: invalid value encountered in double_scalars\n",
      "  app.launch_new_instance()\n"
     ]
    },
    {
     "data": {
      "image/png": "[encoded data removed]",
      "text/plain": [
       "<Figure size 432x288 with 1 Axes>"
      ]
     },
     "metadata": {
      "needs_background": "light"
     },
     "output_type": "display_data"
    },
    {
     "name": "stdout",
     "output_type": "stream",
     "text": [
      "ROC-AUC: 0.7110849056603773 \n",
      "Accuracy: 0.6 \n",
      "Precision: 0.47619047619047616 \n",
      "Recall: 0.625 \n",
      "Threshold: 0.28\n"
     ]
    }
   ],
   "source": [
    "# Load the saved model\n",
    "model = joblib.load('../models/lgboost_updrs_3_model_baseline_meds.pkl')\n",
    "\n",
    "# Make predictions on the test data\n",
    "X_test3 = updrs3_yr_test.drop(columns=['updrs_3_cat', 'kfold', 'visit_id', 'patient_id', 'updrs_3'])\n",
    "y_test3 = updrs3_yr_test['updrs_3_cat']\n",
    "\n",
    "preds = model.predict_proba(X_test3)[:, 1]\n",
    "\n",
    "\n",
    "plot_precision_recall_accuracy(y_test3, preds, 'UPDRS 3', 'LightGBM')\n",
    "\n",
    "print(\"ROC-AUC:\", roc_auc_score(y_test3, preds),\\\n",
    "    \"\\nAccuracy:\", accuracy_score(y_test3, preds>0.28), \\\n",
    "    \"\\nPrecision:\", precision_score(y_test3, preds>0.28), \\\n",
    "    \"\\nRecall:\", recall_score(y_test3, preds>0.28), \\\n",
    "    \"\\nThreshold: 0.28\")"
   ]
  },
  {
   "attachments": {},
   "cell_type": "markdown",
   "metadata": {},
   "source": [
    "## Compare Catboost Model"
   ]
  },
  {
   "cell_type": "code",
   "execution_count": 119,
   "metadata": {},
   "outputs": [],
   "source": [
    "def train_catboost(train_df, test_df, updrs, model):\n",
    "    features = train_df.drop([f'{updrs}_cat', 'kfold'], axis=1)\n",
    "    target = train_df[f'{updrs}_cat']\n",
    "    X_test = test_df.drop([f'{updrs}_cat', 'kfold'], axis=1)\n",
    "    y_test = test_df[f'{updrs}_cat']\n",
    "\n",
    "\n",
    "    model.fit(features, target)\n",
    "    \n",
    "    # Make predictions on the test data\n",
    "    predictions = model.predict_proba(X_test)[:, 1]\n",
    "\n",
    "    # Evaluate AUC on the test data\n",
    "    auc = roc_auc_score(y_test, predictions)\n",
    "    print(\"AUC on Test Data:\", auc)\n",
    "\n",
    "\n",
    "    # Save the trained model to a file\n",
    "    filename = f'../models/catboost_{updrs}_model_baseline_meds.pkl'\n",
    "    joblib.dump(model, filename)\n",
    "\n",
    "    return model"
   ]
  },
  {
   "cell_type": "code",
   "execution_count": 120,
   "metadata": {},
   "outputs": [
    {
     "name": "stdout",
     "output_type": "stream",
     "text": [
      "AUC on Test Data: 0.7691453940066593\n",
      "updrs_1 Results: \n",
      "Test AUC = 0.7691453940066593 \n",
      "Train AUC = 1.0\n",
      "\n",
      "AUC on Test Data: 0.8571428571428572\n",
      "updrs_2 Results: \n",
      "Test AUC = 0.8571428571428572 \n",
      "Train AUC = 1.0\n",
      "\n",
      "AUC on Test Data: 0.7305424528301886\n",
      "updrs_3 Results: \n",
      "Test AUC = 0.7305424528301886 \n",
      "Train AUC = 1.0\n",
      "\n"
     ]
    }
   ],
   "source": [
    "for updrs, df, test_df in zip(['updrs_1', 'updrs_2', 'updrs_3'], \n",
    "                     [updrs1_yr_df_smote, updrs2_yr_df_smote, updrs3_yr_df_smote],\n",
    "                     [updrs1_yr_test, updrs2_yr_test, updrs3_yr_test]):\n",
    "    model = CatBoostClassifier(random_state=42, verbose=False)\n",
    "    train_df = df.drop(columns=['visit_id', 'patient_id', f'{updrs}'])\n",
    "    test_df = test_df.drop(columns=['visit_id', 'patient_id', f'{updrs}'])\n",
    "    y_test = test_df[f'{updrs}_cat']\n",
    "    y_train = train_df[f'{updrs}_cat']\n",
    "    \n",
    "    best_model = train_catboost(train_df, test_df, updrs, model)\n",
    "    # compare the results of the model\n",
    "    X_test = test_df.drop(columns=[f'{updrs}_cat', 'kfold'])\n",
    "    test_preds = best_model.predict_proba(X_test)[:, 1]\n",
    "\n",
    "    test_auc = roc_auc_score(y_test, test_preds)\n",
    "    X_train = train_df.drop(columns=[f'{updrs}_cat', 'kfold'])\n",
    "    train_preds = best_model.predict(X_train)\n",
    "    train_auc = roc_auc_score(y_train, train_preds)\n",
    "    print(f'{updrs} Results: \\nTest AUC = {test_auc} \\nTrain AUC = {train_auc}\\n')"
   ]
  },
  {
   "cell_type": "code",
   "execution_count": 131,
   "metadata": {},
   "outputs": [
    {
     "name": "stderr",
     "output_type": "stream",
     "text": [
      "c:\\Users\\Dagart\\anaconda3\\lib\\site-packages\\sklearn\\metrics\\_classification.py:1318: UndefinedMetricWarning: Precision is ill-defined and being set to 0.0 due to no predicted samples. Use `zero_division` parameter to control this behavior.\n",
      "  _warn_prf(average, modifier, msg_start, len(result))\n",
      "c:\\Users\\Dagart\\anaconda3\\lib\\site-packages\\ipykernel_launcher.py:16: RuntimeWarning: invalid value encountered in double_scalars\n",
      "  app.launch_new_instance()\n",
      "c:\\Users\\Dagart\\anaconda3\\lib\\site-packages\\sklearn\\metrics\\_classification.py:1318: UndefinedMetricWarning: Precision is ill-defined and being set to 0.0 due to no predicted samples. Use `zero_division` parameter to control this behavior.\n",
      "  _warn_prf(average, modifier, msg_start, len(result))\n",
      "c:\\Users\\Dagart\\anaconda3\\lib\\site-packages\\ipykernel_launcher.py:16: RuntimeWarning: invalid value encountered in double_scalars\n",
      "  app.launch_new_instance()\n",
      "c:\\Users\\Dagart\\anaconda3\\lib\\site-packages\\sklearn\\metrics\\_classification.py:1318: UndefinedMetricWarning: Precision is ill-defined and being set to 0.0 due to no predicted samples. Use `zero_division` parameter to control this behavior.\n",
      "  _warn_prf(average, modifier, msg_start, len(result))\n",
      "c:\\Users\\Dagart\\anaconda3\\lib\\site-packages\\ipykernel_launcher.py:16: RuntimeWarning: invalid value encountered in double_scalars\n",
      "  app.launch_new_instance()\n",
      "c:\\Users\\Dagart\\anaconda3\\lib\\site-packages\\sklearn\\metrics\\_classification.py:1318: UndefinedMetricWarning: Precision is ill-defined and being set to 0.0 due to no predicted samples. Use `zero_division` parameter to control this behavior.\n",
      "  _warn_prf(average, modifier, msg_start, len(result))\n",
      "c:\\Users\\Dagart\\anaconda3\\lib\\site-packages\\ipykernel_launcher.py:16: RuntimeWarning: invalid value encountered in double_scalars\n",
      "  app.launch_new_instance()\n",
      "c:\\Users\\Dagart\\anaconda3\\lib\\site-packages\\sklearn\\metrics\\_classification.py:1318: UndefinedMetricWarning: Precision is ill-defined and being set to 0.0 due to no predicted samples. Use `zero_division` parameter to control this behavior.\n",
      "  _warn_prf(average, modifier, msg_start, len(result))\n",
      "c:\\Users\\Dagart\\anaconda3\\lib\\site-packages\\ipykernel_launcher.py:16: RuntimeWarning: invalid value encountered in double_scalars\n",
      "  app.launch_new_instance()\n",
      "c:\\Users\\Dagart\\anaconda3\\lib\\site-packages\\sklearn\\metrics\\_classification.py:1318: UndefinedMetricWarning: Precision is ill-defined and being set to 0.0 due to no predicted samples. Use `zero_division` parameter to control this behavior.\n",
      "  _warn_prf(average, modifier, msg_start, len(result))\n",
      "c:\\Users\\Dagart\\anaconda3\\lib\\site-packages\\ipykernel_launcher.py:16: RuntimeWarning: invalid value encountered in double_scalars\n",
      "  app.launch_new_instance()\n",
      "c:\\Users\\Dagart\\anaconda3\\lib\\site-packages\\sklearn\\metrics\\_classification.py:1318: UndefinedMetricWarning: Precision is ill-defined and being set to 0.0 due to no predicted samples. Use `zero_division` parameter to control this behavior.\n",
      "  _warn_prf(average, modifier, msg_start, len(result))\n",
      "c:\\Users\\Dagart\\anaconda3\\lib\\site-packages\\ipykernel_launcher.py:16: RuntimeWarning: invalid value encountered in double_scalars\n",
      "  app.launch_new_instance()\n",
      "c:\\Users\\Dagart\\anaconda3\\lib\\site-packages\\sklearn\\metrics\\_classification.py:1318: UndefinedMetricWarning: Precision is ill-defined and being set to 0.0 due to no predicted samples. Use `zero_division` parameter to control this behavior.\n",
      "  _warn_prf(average, modifier, msg_start, len(result))\n",
      "c:\\Users\\Dagart\\anaconda3\\lib\\site-packages\\ipykernel_launcher.py:16: RuntimeWarning: invalid value encountered in double_scalars\n",
      "  app.launch_new_instance()\n"
     ]
    },
    {
     "data": {
      "image/png": "[encoded data removed]",
      "text/plain": [
       "<Figure size 432x288 with 1 Axes>"
      ]
     },
     "metadata": {
      "needs_background": "light"
     },
     "output_type": "display_data"
    },
    {
     "name": "stdout",
     "output_type": "stream",
     "text": [
      "ROC-AUC: 0.7691453940066593 \n",
      "Accuracy: 0.7011494252873564 \n",
      "Precision: 0.5869565217391305 \n",
      "Recall: 0.7941176470588235 \n",
      "Threshold: 0.35\n"
     ]
    }
   ],
   "source": [
    "# Load the saved model\n",
    "model = joblib.load('../models/catboost_updrs_1_model_baseline_meds.pkl')\n",
    "\n",
    "# Make predictions on the test data\n",
    "X_test1 = updrs1_yr_test.drop(columns=['updrs_1_cat', 'kfold', 'visit_id', 'patient_id', 'updrs_1'])\n",
    "y_test1 = updrs1_yr_test['updrs_1_cat']\n",
    "\n",
    "preds = model.predict_proba(X_test1)[:, 1]\n",
    "\n",
    "\n",
    "plot_precision_recall_accuracy(y_test1, preds, 'UPDRS 1', 'CatBoost')\n",
    "\n",
    "print(\"ROC-AUC:\", roc_auc_score(y_test1, preds),\\\n",
    "    \"\\nAccuracy:\", accuracy_score(y_test1, preds>0.35), \\\n",
    "    \"\\nPrecision:\", precision_score(y_test1, preds>0.35), \\\n",
    "    \"\\nRecall:\", recall_score(y_test1, preds>0.35), \\\n",
    "    \"\\nThreshold: 0.35\")"
   ]
  },
  {
   "cell_type": "code",
   "execution_count": 130,
   "metadata": {},
   "outputs": [
    {
     "name": "stderr",
     "output_type": "stream",
     "text": [
      "c:\\Users\\Dagart\\anaconda3\\lib\\site-packages\\sklearn\\metrics\\_classification.py:1318: UndefinedMetricWarning: Precision is ill-defined and being set to 0.0 due to no predicted samples. Use `zero_division` parameter to control this behavior.\n",
      "  _warn_prf(average, modifier, msg_start, len(result))\n",
      "c:\\Users\\Dagart\\anaconda3\\lib\\site-packages\\ipykernel_launcher.py:16: RuntimeWarning: invalid value encountered in double_scalars\n",
      "  app.launch_new_instance()\n",
      "c:\\Users\\Dagart\\anaconda3\\lib\\site-packages\\sklearn\\metrics\\_classification.py:1318: UndefinedMetricWarning: Precision is ill-defined and being set to 0.0 due to no predicted samples. Use `zero_division` parameter to control this behavior.\n",
      "  _warn_prf(average, modifier, msg_start, len(result))\n",
      "c:\\Users\\Dagart\\anaconda3\\lib\\site-packages\\ipykernel_launcher.py:16: RuntimeWarning: invalid value encountered in double_scalars\n",
      "  app.launch_new_instance()\n",
      "c:\\Users\\Dagart\\anaconda3\\lib\\site-packages\\sklearn\\metrics\\_classification.py:1318: UndefinedMetricWarning: Precision is ill-defined and being set to 0.0 due to no predicted samples. Use `zero_division` parameter to control this behavior.\n",
      "  _warn_prf(average, modifier, msg_start, len(result))\n",
      "c:\\Users\\Dagart\\anaconda3\\lib\\site-packages\\ipykernel_launcher.py:16: RuntimeWarning: invalid value encountered in double_scalars\n",
      "  app.launch_new_instance()\n",
      "c:\\Users\\Dagart\\anaconda3\\lib\\site-packages\\sklearn\\metrics\\_classification.py:1318: UndefinedMetricWarning: Precision is ill-defined and being set to 0.0 due to no predicted samples. Use `zero_division` parameter to control this behavior.\n",
      "  _warn_prf(average, modifier, msg_start, len(result))\n",
      "c:\\Users\\Dagart\\anaconda3\\lib\\site-packages\\ipykernel_launcher.py:16: RuntimeWarning: invalid value encountered in double_scalars\n",
      "  app.launch_new_instance()\n",
      "c:\\Users\\Dagart\\anaconda3\\lib\\site-packages\\sklearn\\metrics\\_classification.py:1318: UndefinedMetricWarning: Precision is ill-defined and being set to 0.0 due to no predicted samples. Use `zero_division` parameter to control this behavior.\n",
      "  _warn_prf(average, modifier, msg_start, len(result))\n",
      "c:\\Users\\Dagart\\anaconda3\\lib\\site-packages\\ipykernel_launcher.py:16: RuntimeWarning: invalid value encountered in double_scalars\n",
      "  app.launch_new_instance()\n",
      "c:\\Users\\Dagart\\anaconda3\\lib\\site-packages\\sklearn\\metrics\\_classification.py:1318: UndefinedMetricWarning: Precision is ill-defined and being set to 0.0 due to no predicted samples. Use `zero_division` parameter to control this behavior.\n",
      "  _warn_prf(average, modifier, msg_start, len(result))\n",
      "c:\\Users\\Dagart\\anaconda3\\lib\\site-packages\\ipykernel_launcher.py:16: RuntimeWarning: invalid value encountered in double_scalars\n",
      "  app.launch_new_instance()\n",
      "c:\\Users\\Dagart\\anaconda3\\lib\\site-packages\\sklearn\\metrics\\_classification.py:1318: UndefinedMetricWarning: Precision is ill-defined and being set to 0.0 due to no predicted samples. Use `zero_division` parameter to control this behavior.\n",
      "  _warn_prf(average, modifier, msg_start, len(result))\n",
      "c:\\Users\\Dagart\\anaconda3\\lib\\site-packages\\ipykernel_launcher.py:16: RuntimeWarning: invalid value encountered in double_scalars\n",
      "  app.launch_new_instance()\n",
      "c:\\Users\\Dagart\\anaconda3\\lib\\site-packages\\sklearn\\metrics\\_classification.py:1318: UndefinedMetricWarning: Precision is ill-defined and being set to 0.0 due to no predicted samples. Use `zero_division` parameter to control this behavior.\n",
      "  _warn_prf(average, modifier, msg_start, len(result))\n",
      "c:\\Users\\Dagart\\anaconda3\\lib\\site-packages\\ipykernel_launcher.py:16: RuntimeWarning: invalid value encountered in double_scalars\n",
      "  app.launch_new_instance()\n",
      "c:\\Users\\Dagart\\anaconda3\\lib\\site-packages\\sklearn\\metrics\\_classification.py:1318: UndefinedMetricWarning: Precision is ill-defined and being set to 0.0 due to no predicted samples. Use `zero_division` parameter to control this behavior.\n",
      "  _warn_prf(average, modifier, msg_start, len(result))\n",
      "c:\\Users\\Dagart\\anaconda3\\lib\\site-packages\\ipykernel_launcher.py:16: RuntimeWarning: invalid value encountered in double_scalars\n",
      "  app.launch_new_instance()\n",
      "c:\\Users\\Dagart\\anaconda3\\lib\\site-packages\\sklearn\\metrics\\_classification.py:1318: UndefinedMetricWarning: Precision is ill-defined and being set to 0.0 due to no predicted samples. Use `zero_division` parameter to control this behavior.\n",
      "  _warn_prf(average, modifier, msg_start, len(result))\n",
      "c:\\Users\\Dagart\\anaconda3\\lib\\site-packages\\ipykernel_launcher.py:16: RuntimeWarning: invalid value encountered in double_scalars\n",
      "  app.launch_new_instance()\n",
      "c:\\Users\\Dagart\\anaconda3\\lib\\site-packages\\sklearn\\metrics\\_classification.py:1318: UndefinedMetricWarning: Precision is ill-defined and being set to 0.0 due to no predicted samples. Use `zero_division` parameter to control this behavior.\n",
      "  _warn_prf(average, modifier, msg_start, len(result))\n",
      "c:\\Users\\Dagart\\anaconda3\\lib\\site-packages\\ipykernel_launcher.py:16: RuntimeWarning: invalid value encountered in double_scalars\n",
      "  app.launch_new_instance()\n"
     ]
    },
    {
     "data": {
      "image/png": "[encoded data removed]",
      "text/plain": [
       "<Figure size 432x288 with 1 Axes>"
      ]
     },
     "metadata": {
      "needs_background": "light"
     },
     "output_type": "display_data"
    },
    {
     "name": "stdout",
     "output_type": "stream",
     "text": [
      "ROC-AUC: 0.8571428571428572 \n",
      "Accuracy: 0.7727272727272727 \n",
      "Precision: 0.5757575757575758 \n",
      "Recall: 0.76 \n",
      "Threshold: 0.30\n"
     ]
    }
   ],
   "source": [
    "# Load the saved model\n",
    "model = joblib.load('../models/catboost_updrs_2_model_baseline_meds.pkl')\n",
    "\n",
    "# Make predictions on the test data\n",
    "X_test2 = updrs2_yr_test.drop(columns=['updrs_2_cat', 'kfold', 'visit_id', 'patient_id', 'updrs_2'])\n",
    "y_test2 = updrs2_yr_test['updrs_2_cat']\n",
    "\n",
    "preds = model.predict_proba(X_test2)[:, 1]\n",
    "\n",
    "\n",
    "plot_precision_recall_accuracy(y_test2, preds, 'UPDRS 2', 'CatBoost')\n",
    "\n",
    "print(\"ROC-AUC:\", roc_auc_score(y_test2, preds),\\\n",
    "    \"\\nAccuracy:\", accuracy_score(y_test2, preds>0.30), \\\n",
    "    \"\\nPrecision:\", precision_score(y_test2, preds>0.30), \\\n",
    "    \"\\nRecall:\", recall_score(y_test2, preds>0.30), \\\n",
    "    \"\\nThreshold: 0.30\")"
   ]
  },
  {
   "cell_type": "code",
   "execution_count": 126,
   "metadata": {},
   "outputs": [
    {
     "name": "stderr",
     "output_type": "stream",
     "text": [
      "c:\\Users\\Dagart\\anaconda3\\lib\\site-packages\\sklearn\\metrics\\_classification.py:1318: UndefinedMetricWarning: Precision is ill-defined and being set to 0.0 due to no predicted samples. Use `zero_division` parameter to control this behavior.\n",
      "  _warn_prf(average, modifier, msg_start, len(result))\n",
      "c:\\Users\\Dagart\\anaconda3\\lib\\site-packages\\ipykernel_launcher.py:16: RuntimeWarning: invalid value encountered in double_scalars\n",
      "  app.launch_new_instance()\n",
      "c:\\Users\\Dagart\\anaconda3\\lib\\site-packages\\sklearn\\metrics\\_classification.py:1318: UndefinedMetricWarning: Precision is ill-defined and being set to 0.0 due to no predicted samples. Use `zero_division` parameter to control this behavior.\n",
      "  _warn_prf(average, modifier, msg_start, len(result))\n",
      "c:\\Users\\Dagart\\anaconda3\\lib\\site-packages\\ipykernel_launcher.py:16: RuntimeWarning: invalid value encountered in double_scalars\n",
      "  app.launch_new_instance()\n",
      "c:\\Users\\Dagart\\anaconda3\\lib\\site-packages\\sklearn\\metrics\\_classification.py:1318: UndefinedMetricWarning: Precision is ill-defined and being set to 0.0 due to no predicted samples. Use `zero_division` parameter to control this behavior.\n",
      "  _warn_prf(average, modifier, msg_start, len(result))\n",
      "c:\\Users\\Dagart\\anaconda3\\lib\\site-packages\\ipykernel_launcher.py:16: RuntimeWarning: invalid value encountered in double_scalars\n",
      "  app.launch_new_instance()\n",
      "c:\\Users\\Dagart\\anaconda3\\lib\\site-packages\\sklearn\\metrics\\_classification.py:1318: UndefinedMetricWarning: Precision is ill-defined and being set to 0.0 due to no predicted samples. Use `zero_division` parameter to control this behavior.\n",
      "  _warn_prf(average, modifier, msg_start, len(result))\n",
      "c:\\Users\\Dagart\\anaconda3\\lib\\site-packages\\ipykernel_launcher.py:16: RuntimeWarning: invalid value encountered in double_scalars\n",
      "  app.launch_new_instance()\n",
      "c:\\Users\\Dagart\\anaconda3\\lib\\site-packages\\sklearn\\metrics\\_classification.py:1318: UndefinedMetricWarning: Precision is ill-defined and being set to 0.0 due to no predicted samples. Use `zero_division` parameter to control this behavior.\n",
      "  _warn_prf(average, modifier, msg_start, len(result))\n",
      "c:\\Users\\Dagart\\anaconda3\\lib\\site-packages\\ipykernel_launcher.py:16: RuntimeWarning: invalid value encountered in double_scalars\n",
      "  app.launch_new_instance()\n",
      "c:\\Users\\Dagart\\anaconda3\\lib\\site-packages\\sklearn\\metrics\\_classification.py:1318: UndefinedMetricWarning: Precision is ill-defined and being set to 0.0 due to no predicted samples. Use `zero_division` parameter to control this behavior.\n",
      "  _warn_prf(average, modifier, msg_start, len(result))\n",
      "c:\\Users\\Dagart\\anaconda3\\lib\\site-packages\\ipykernel_launcher.py:16: RuntimeWarning: invalid value encountered in double_scalars\n",
      "  app.launch_new_instance()\n",
      "c:\\Users\\Dagart\\anaconda3\\lib\\site-packages\\sklearn\\metrics\\_classification.py:1318: UndefinedMetricWarning: Precision is ill-defined and being set to 0.0 due to no predicted samples. Use `zero_division` parameter to control this behavior.\n",
      "  _warn_prf(average, modifier, msg_start, len(result))\n",
      "c:\\Users\\Dagart\\anaconda3\\lib\\site-packages\\ipykernel_launcher.py:16: RuntimeWarning: invalid value encountered in double_scalars\n",
      "  app.launch_new_instance()\n",
      "c:\\Users\\Dagart\\anaconda3\\lib\\site-packages\\sklearn\\metrics\\_classification.py:1318: UndefinedMetricWarning: Precision is ill-defined and being set to 0.0 due to no predicted samples. Use `zero_division` parameter to control this behavior.\n",
      "  _warn_prf(average, modifier, msg_start, len(result))\n",
      "c:\\Users\\Dagart\\anaconda3\\lib\\site-packages\\ipykernel_launcher.py:16: RuntimeWarning: invalid value encountered in double_scalars\n",
      "  app.launch_new_instance()\n",
      "c:\\Users\\Dagart\\anaconda3\\lib\\site-packages\\sklearn\\metrics\\_classification.py:1318: UndefinedMetricWarning: Precision is ill-defined and being set to 0.0 due to no predicted samples. Use `zero_division` parameter to control this behavior.\n",
      "  _warn_prf(average, modifier, msg_start, len(result))\n",
      "c:\\Users\\Dagart\\anaconda3\\lib\\site-packages\\ipykernel_launcher.py:16: RuntimeWarning: invalid value encountered in double_scalars\n",
      "  app.launch_new_instance()\n",
      "c:\\Users\\Dagart\\anaconda3\\lib\\site-packages\\sklearn\\metrics\\_classification.py:1318: UndefinedMetricWarning: Precision is ill-defined and being set to 0.0 due to no predicted samples. Use `zero_division` parameter to control this behavior.\n",
      "  _warn_prf(average, modifier, msg_start, len(result))\n",
      "c:\\Users\\Dagart\\anaconda3\\lib\\site-packages\\ipykernel_launcher.py:16: RuntimeWarning: invalid value encountered in double_scalars\n",
      "  app.launch_new_instance()\n",
      "c:\\Users\\Dagart\\anaconda3\\lib\\site-packages\\sklearn\\metrics\\_classification.py:1318: UndefinedMetricWarning: Precision is ill-defined and being set to 0.0 due to no predicted samples. Use `zero_division` parameter to control this behavior.\n",
      "  _warn_prf(average, modifier, msg_start, len(result))\n",
      "c:\\Users\\Dagart\\anaconda3\\lib\\site-packages\\ipykernel_launcher.py:16: RuntimeWarning: invalid value encountered in double_scalars\n",
      "  app.launch_new_instance()\n",
      "c:\\Users\\Dagart\\anaconda3\\lib\\site-packages\\sklearn\\metrics\\_classification.py:1318: UndefinedMetricWarning: Precision is ill-defined and being set to 0.0 due to no predicted samples. Use `zero_division` parameter to control this behavior.\n",
      "  _warn_prf(average, modifier, msg_start, len(result))\n",
      "c:\\Users\\Dagart\\anaconda3\\lib\\site-packages\\ipykernel_launcher.py:16: RuntimeWarning: invalid value encountered in double_scalars\n",
      "  app.launch_new_instance()\n",
      "c:\\Users\\Dagart\\anaconda3\\lib\\site-packages\\sklearn\\metrics\\_classification.py:1318: UndefinedMetricWarning: Precision is ill-defined and being set to 0.0 due to no predicted samples. Use `zero_division` parameter to control this behavior.\n",
      "  _warn_prf(average, modifier, msg_start, len(result))\n",
      "c:\\Users\\Dagart\\anaconda3\\lib\\site-packages\\ipykernel_launcher.py:16: RuntimeWarning: invalid value encountered in double_scalars\n",
      "  app.launch_new_instance()\n",
      "c:\\Users\\Dagart\\anaconda3\\lib\\site-packages\\sklearn\\metrics\\_classification.py:1318: UndefinedMetricWarning: Precision is ill-defined and being set to 0.0 due to no predicted samples. Use `zero_division` parameter to control this behavior.\n",
      "  _warn_prf(average, modifier, msg_start, len(result))\n",
      "c:\\Users\\Dagart\\anaconda3\\lib\\site-packages\\ipykernel_launcher.py:16: RuntimeWarning: invalid value encountered in double_scalars\n",
      "  app.launch_new_instance()\n",
      "c:\\Users\\Dagart\\anaconda3\\lib\\site-packages\\sklearn\\metrics\\_classification.py:1318: UndefinedMetricWarning: Precision is ill-defined and being set to 0.0 due to no predicted samples. Use `zero_division` parameter to control this behavior.\n",
      "  _warn_prf(average, modifier, msg_start, len(result))\n",
      "c:\\Users\\Dagart\\anaconda3\\lib\\site-packages\\ipykernel_launcher.py:16: RuntimeWarning: invalid value encountered in double_scalars\n",
      "  app.launch_new_instance()\n",
      "c:\\Users\\Dagart\\anaconda3\\lib\\site-packages\\sklearn\\metrics\\_classification.py:1318: UndefinedMetricWarning: Precision is ill-defined and being set to 0.0 due to no predicted samples. Use `zero_division` parameter to control this behavior.\n",
      "  _warn_prf(average, modifier, msg_start, len(result))\n",
      "c:\\Users\\Dagart\\anaconda3\\lib\\site-packages\\ipykernel_launcher.py:16: RuntimeWarning: invalid value encountered in double_scalars\n",
      "  app.launch_new_instance()\n",
      "c:\\Users\\Dagart\\anaconda3\\lib\\site-packages\\sklearn\\metrics\\_classification.py:1318: UndefinedMetricWarning: Precision is ill-defined and being set to 0.0 due to no predicted samples. Use `zero_division` parameter to control this behavior.\n",
      "  _warn_prf(average, modifier, msg_start, len(result))\n",
      "c:\\Users\\Dagart\\anaconda3\\lib\\site-packages\\ipykernel_launcher.py:16: RuntimeWarning: invalid value encountered in double_scalars\n",
      "  app.launch_new_instance()\n",
      "c:\\Users\\Dagart\\anaconda3\\lib\\site-packages\\sklearn\\metrics\\_classification.py:1318: UndefinedMetricWarning: Precision is ill-defined and being set to 0.0 due to no predicted samples. Use `zero_division` parameter to control this behavior.\n",
      "  _warn_prf(average, modifier, msg_start, len(result))\n",
      "c:\\Users\\Dagart\\anaconda3\\lib\\site-packages\\ipykernel_launcher.py:16: RuntimeWarning: invalid value encountered in double_scalars\n",
      "  app.launch_new_instance()\n"
     ]
    },
    {
     "data": {
      "image/png": "[encoded data removed]",
      "text/plain": [
       "<Figure size 432x288 with 1 Axes>"
      ]
     },
     "metadata": {
      "needs_background": "light"
     },
     "output_type": "display_data"
    },
    {
     "name": "stdout",
     "output_type": "stream",
     "text": [
      "ROC-AUC: 0.7305424528301886 \n",
      "Accuracy: 0.6823529411764706 \n",
      "Precision: 0.5555555555555556 \n",
      "Recall: 0.78125 \n",
      "Threshold: 0.35\n"
     ]
    }
   ],
   "source": [
    "# Load the saved model\n",
    "model = joblib.load('../models/catboost_updrs_3_model_baseline_meds.pkl')\n",
    "\n",
    "# Make predictions on the test data\n",
    "X_test3 = updrs3_yr_test.drop(columns=['updrs_3_cat', 'kfold', 'visit_id', 'patient_id', 'updrs_3'])\n",
    "y_test3 = updrs3_yr_test['updrs_3_cat']\n",
    "\n",
    "preds = model.predict_proba(X_test3)[:, 1]\n",
    "\n",
    "\n",
    "plot_precision_recall_accuracy(y_test3, preds, 'UPDRS 3', 'CatBoost')\n",
    "\n",
    "print(\"ROC-AUC:\", roc_auc_score(y_test3, preds),\\\n",
    "    \"\\nAccuracy:\", accuracy_score(y_test3, preds>0.35), \\\n",
    "    \"\\nPrecision:\", precision_score(y_test3, preds>0.35), \\\n",
    "    \"\\nRecall:\", recall_score(y_test3, preds>0.35), \\\n",
    "    \"\\nThreshold: 0.35\")"
   ]
  },
  {
   "cell_type": "markdown",
   "metadata": {},
   "source": [
    "# -----------------------------CHECK RESULTS -------------------------------------"
   ]
  },
  {
   "cell_type": "code",
   "execution_count": null,
   "metadata": {},
   "outputs": [],
   "source": [
    "def train_catboost(train_df, test_df, updrs):\n",
    "    features = train_df.drop([f'{updrs}_cat', 'kfold'], axis=1)\n",
    "    target = train_df[f'{updrs}_cat']\n",
    "    X_val = val_df.drop([f'{updrs}_cat','kfold'] axis=1)\n",
    "    y_val = val_df[f'{updrs}_cat']\n",
    "\n",
    "    # Define the CatBoost classifier\n",
    "    model = CatBoostClassifier(iterations=1000, eval_metric='AUC', random_seed=42)\n",
    "\n",
    "    # Fit the model on the training data\n",
    "    model.fit(features, \n",
    "              target,\n",
    "                #early_stopping_rounds=50, \n",
    "                verbose=100)\n",
    "\n",
    "    # Make predictions on the test data\n",
    "    predictions = model.predict_proba(test_df)[:, 1]\n",
    "\n",
    "    # Evaluate AUC on the test data\n",
    "    auc = roc_auc_score(test_df[f'{updrs}_cat'], predictions)\n",
    "    print(\"AUC on Test Data:\", auc)\n",
    "\n",
    "    # Save the best iteration of the model\n",
    "    model.save_model(f'../models/catboost_{updrs}_model.cbm', format='cbm', pool=None)\n",
    "\n",
    "    return model"
   ]
  },
  {
   "cell_type": "code",
   "execution_count": null,
   "metadata": {},
   "outputs": [
    {
     "name": "stdout",
     "output_type": "stream",
     "text": [
      "5 Kfolds created for updrs_1_cat\n",
      "Learning rate set to 0.023058\n",
      "0:\ttest: 0.4894349\tbest: 0.4894349 (0)\ttotal: 279ms\tremaining: 4m 38s\n",
      "100:\ttest: 0.6599509\tbest: 0.6633907 (98)\ttotal: 20.3s\tremaining: 3m\n",
      "200:\ttest: 0.6914005\tbest: 0.6914005 (169)\ttotal: 38.9s\tremaining: 2m 34s\n",
      "300:\ttest: 0.7027027\tbest: 0.7071253 (287)\ttotal: 57.5s\tremaining: 2m 13s\n",
      "400:\ttest: 0.7115479\tbest: 0.7154791 (386)\ttotal: 1m 16s\tremaining: 1m 53s\n",
      "500:\ttest: 0.7159705\tbest: 0.7169533 (477)\ttotal: 1m 34s\tremaining: 1m 34s\n",
      "600:\ttest: 0.7130221\tbest: 0.7169533 (477)\ttotal: 1m 53s\tremaining: 1m 15s\n",
      "700:\ttest: 0.7135135\tbest: 0.7169533 (477)\ttotal: 2m 11s\tremaining: 56.3s\n",
      "800:\ttest: 0.7233415\tbest: 0.7243243 (785)\ttotal: 2m 30s\tremaining: 37.4s\n",
      "900:\ttest: 0.7233415\tbest: 0.7248157 (808)\ttotal: 2m 49s\tremaining: 18.6s\n",
      "999:\ttest: 0.7267813\tbest: 0.7272727 (960)\ttotal: 3m 7s\tremaining: 0us\n",
      "\n",
      "bestTest = 0.7272727273\n",
      "bestIteration = 960\n",
      "\n",
      "Shrink model to first 961 iterations.\n",
      "AUC on Test Data: 0.7326781326781326\n"
     ]
    }
   ],
   "source": [
    "# train and save the best catboost model for each updrs\n",
    "cboost_results = dict()\n",
    "\n",
    "for updrs, df in zip(['updrs_1'], [updrs1_yr_df]):\n",
    "    model = prepare_catboost_model(cboost_forecast_hyperparams_df, updrs)\n",
    "    temp_df, test_kfold = create_folds(df, updrs)\n",
    "    val_kfold = test_kfold - 1 \n",
    "    temp_df = temp_df.drop(columns=['visit_id', 'patient_id', f'{updrs}'])\n",
    "    X_train = temp_df[(temp_df['kfold'] != test_kfold)&(temp_df['kfold']!=val_kfold)].reset_index(drop=True)\n",
    "    y_train = X_train[f'{updrs}_cat']\n",
    "    X_test = temp_df[temp_df['kfold'] == test_kfold].reset_index(drop=True)\n",
    "    y_test = X_test[f'{updrs}_cat']\n",
    "    val_df = temp_df[temp_df['kfold'] == val_kfold].reset_index(drop=True)\n",
    "    \n",
    "    best_model = train_catboost(X_train, val_df, X_test, updrs)\n",
    "    \n",
    "    #preds = best_model.predict(X_test.drop(columns = [f'{updrs}_cat', 'kfold']))\n",
    "    #test_auc = roc_auc_score(y_test, preds)\n",
    "    #preds = best_model.predict(X_train.drop(columns=[f'{updrs}_cat', 'kfold']))\n",
    "    #train_auc = roc_auc_score(y_train, preds)\n",
    "    \n",
    "    #cboost_results[updrs] = {'test_auc':test_auc, 'train_auc':train_auc}\n",
    "\n",
    "\n",
    "\n",
    "    "
   ]
  },
  {
   "cell_type": "code",
   "execution_count": null,
   "metadata": {},
   "outputs": [
    {
     "data": {
      "text/plain": [
       "(0.6525798525798526, 1.0)"
      ]
     },
     "execution_count": 175,
     "metadata": {},
     "output_type": "execute_result"
    }
   ],
   "source": [
    "# compare the results of the model\n",
    "test_preds = best_model.predict(X_test)\n",
    "test_auc = roc_auc_score(y_test, test_preds)\n",
    "train_preds = best_model.predict(X_train)\n",
    "train_auc = roc_auc_score(y_train, train_preds)\n",
    "test_auc, train_auc"
   ]
  },
  {
   "cell_type": "code",
   "execution_count": null,
   "metadata": {},
   "outputs": [
    {
     "name": "stdout",
     "output_type": "stream",
     "text": [
      "5 Kfolds created for updrs_2_cat\n",
      "Learning rate set to 0.023058\n",
      "0:\ttest: 0.5623974\tbest: 0.5623974 (0)\ttotal: 206ms\tremaining: 3m 26s\n",
      "100:\ttest: 0.7695676\tbest: 0.7766831 (95)\ttotal: 18.2s\tremaining: 2m 42s\n",
      "200:\ttest: 0.7996716\tbest: 0.8111658 (176)\ttotal: 36.1s\tremaining: 2m 23s\n",
      "300:\ttest: 0.8292282\tbest: 0.8314176 (299)\ttotal: 54.1s\tremaining: 2m 5s\n",
      "400:\ttest: 0.8445539\tbest: 0.8467433 (381)\ttotal: 1m 12s\tremaining: 1m 48s\n",
      "500:\ttest: 0.8494800\tbest: 0.8549535 (464)\ttotal: 1m 30s\tremaining: 1m 29s\n",
      "600:\ttest: 0.8560482\tbest: 0.8565955 (581)\ttotal: 1m 48s\tremaining: 1m 11s\n",
      "700:\ttest: 0.8555008\tbest: 0.8582375 (674)\ttotal: 2m 6s\tremaining: 54s\n",
      "800:\ttest: 0.8587849\tbest: 0.8587849 (738)\ttotal: 2m 26s\tremaining: 36.4s\n",
      "900:\ttest: 0.8576902\tbest: 0.8593322 (804)\ttotal: 2m 45s\tremaining: 18.2s\n",
      "999:\ttest: 0.8587849\tbest: 0.8604269 (946)\ttotal: 3m 4s\tremaining: 0us\n",
      "\n",
      "bestTest = 0.8604269294\n",
      "bestIteration = 946\n",
      "\n",
      "Shrink model to first 947 iterations.\n",
      "AUC on Test Data: 0.8292282430213465\n"
     ]
    }
   ],
   "source": [
    "for updrs, df in zip(['updrs_2'], [updrs2_yr_df]):\n",
    "    model = prepare_catboost_model(cboost_forecast_hyperparams_df, updrs)\n",
    "    temp_df, test_kfold = create_folds(df, updrs)\n",
    "    val_kfold = test_kfold - 1 \n",
    "    temp_df = temp_df.drop(columns=['visit_id', 'patient_id', f'{updrs}'])\n",
    "    X_train = temp_df[(temp_df['kfold'] != test_kfold)&(temp_df['kfold']!=val_kfold)].reset_index(drop=True)\n",
    "    y_train = X_train[f'{updrs}_cat']\n",
    "    X_test = temp_df[temp_df['kfold'] == test_kfold].reset_index(drop=True)\n",
    "    y_test = X_test[f'{updrs}_cat']\n",
    "    val_df = temp_df[temp_df['kfold'] == val_kfold].reset_index(drop=True)\n",
    "    \n",
    "    best_model = train_catboost(X_train, val_df, X_test, updrs)\n",
    "    \n",
    "    #preds = best_model.predict(X_test.drop(columns = [f'{updrs}_cat', 'kfold']))\n",
    "    #test_auc = roc_auc_score(y_test, preds)\n",
    "    #preds = best_model.predict(X_train.drop(columns=[f'{updrs}_cat', 'kfold']))\n",
    "    #train_auc = roc_auc_score(y_train, preds)\n",
    "    \n",
    "    #cboost_results[updrs] = {'test_auc':test_auc, 'train_auc':train_auc}"
   ]
  },
  {
   "cell_type": "code",
   "execution_count": null,
   "metadata": {},
   "outputs": [
    {
     "data": {
      "text/plain": [
       "(0.6737821565407772, 1.0)"
      ]
     },
     "execution_count": 177,
     "metadata": {},
     "output_type": "execute_result"
    }
   ],
   "source": [
    "# compare the results of the model\n",
    "test_preds = best_model.predict(X_test)\n",
    "test_auc = roc_auc_score(y_test, test_preds)\n",
    "train_preds = best_model.predict(X_train)\n",
    "train_auc = roc_auc_score(y_train, train_preds)\n",
    "test_auc, train_auc"
   ]
  },
  {
   "cell_type": "code",
   "execution_count": null,
   "metadata": {},
   "outputs": [
    {
     "name": "stdout",
     "output_type": "stream",
     "text": [
      "5 Kfolds created for updrs_3_cat\n",
      "Learning rate set to 0.023037\n",
      "0:\ttest: 0.5795918\tbest: 0.5795918 (0)\ttotal: 212ms\tremaining: 3m 32s\n",
      "100:\ttest: 0.6540816\tbest: 0.6709184 (92)\ttotal: 19s\tremaining: 2m 49s\n",
      "200:\ttest: 0.6943878\tbest: 0.6989796 (191)\ttotal: 40.1s\tremaining: 2m 39s\n",
      "300:\ttest: 0.7306122\tbest: 0.7311224 (294)\ttotal: 1m 1s\tremaining: 2m 23s\n",
      "400:\ttest: 0.7372449\tbest: 0.7403061 (359)\ttotal: 1m 22s\tremaining: 2m 3s\n",
      "500:\ttest: 0.7494898\tbest: 0.7510204 (493)\ttotal: 1m 39s\tremaining: 1m 39s\n",
      "600:\ttest: 0.7530612\tbest: 0.7556122 (572)\ttotal: 1m 56s\tremaining: 1m 17s\n",
      "700:\ttest: 0.7551020\tbest: 0.7571429 (689)\ttotal: 2m 13s\tremaining: 57s\n",
      "800:\ttest: 0.7586735\tbest: 0.7602041 (780)\ttotal: 2m 30s\tremaining: 37.4s\n",
      "900:\ttest: 0.7576531\tbest: 0.7612245 (822)\ttotal: 2m 47s\tremaining: 18.4s\n",
      "999:\ttest: 0.7596939\tbest: 0.7612245 (822)\ttotal: 3m 4s\tremaining: 0us\n",
      "\n",
      "bestTest = 0.7612244898\n",
      "bestIteration = 822\n",
      "\n",
      "Shrink model to first 823 iterations.\n",
      "AUC on Test Data: 0.7775510204081633\n"
     ]
    }
   ],
   "source": [
    "for updrs, df in zip(['updrs_3'], [updrs3_yr_df]):\n",
    "    model = prepare_catboost_model(cboost_forecast_hyperparams_df, updrs)\n",
    "    temp_df, test_kfold = create_folds(df, updrs)\n",
    "    val_kfold = test_kfold - 1 \n",
    "    temp_df = temp_df.drop(columns=['visit_id', 'patient_id', f'{updrs}'])\n",
    "    X_train = temp_df[(temp_df['kfold'] != test_kfold)&(temp_df['kfold']!=val_kfold)].reset_index(drop=True)\n",
    "    y_train = X_train[f'{updrs}_cat']\n",
    "    X_test = temp_df[temp_df['kfold'] == test_kfold].reset_index(drop=True)\n",
    "    y_test = X_test[f'{updrs}_cat']\n",
    "    val_df = temp_df[temp_df['kfold'] == val_kfold].reset_index(drop=True)\n",
    "    \n",
    "    best_model = train_catboost(X_train, val_df, X_test, updrs)\n",
    "    \n",
    "    #preds = best_model.predict(X_test.drop(columns = [f'{updrs}_cat', 'kfold']))\n",
    "    #test_auc = roc_auc_score(y_test, preds)\n",
    "    #preds = best_model.predict(X_train.drop(columns=[f'{updrs}_cat', 'kfold']))\n",
    "    #train_auc = roc_auc_score(y_train, preds)\n",
    "    \n",
    "    #cboost_results[updrs] = {'test_auc':test_auc, 'train_auc':train_auc}"
   ]
  },
  {
   "cell_type": "code",
   "execution_count": null,
   "metadata": {},
   "outputs": [
    {
     "data": {
      "text/plain": [
       "(0.6303571428571428, 1.0)"
      ]
     },
     "execution_count": 179,
     "metadata": {},
     "output_type": "execute_result"
    }
   ],
   "source": [
    "# compare the results of the model\n",
    "test_preds = best_model.predict(X_test)\n",
    "test_auc = roc_auc_score(y_test, test_preds)\n",
    "train_preds = best_model.predict(X_train)\n",
    "train_auc = roc_auc_score(y_train, train_preds)\n",
    "test_auc, train_auc"
   ]
  },
  {
   "attachments": {},
   "cell_type": "markdown",
   "metadata": {},
   "source": [
    "## Compare to Logistic Regression Model"
   ]
  },
  {
   "cell_type": "code",
   "execution_count": null,
   "metadata": {},
   "outputs": [
    {
     "name": "stderr",
     "output_type": "stream",
     "text": [
      "c:\\Users\\Dagart\\anaconda3\\envs\\easypy37\\lib\\site-packages\\sklearn\\linear_model\\_logistic.py:818: ConvergenceWarning: lbfgs failed to converge (status=1):\n",
      "STOP: TOTAL NO. of ITERATIONS REACHED LIMIT.\n",
      "\n",
      "Increase the number of iterations (max_iter) or scale the data as shown in:\n",
      "    https://scikit-learn.org/stable/modules/preprocessing.html\n",
      "Please also refer to the documentation for alternative solver options:\n",
      "    https://scikit-learn.org/stable/modules/linear_model.html#logistic-regression\n",
      "  extra_warning_msg=_LOGISTIC_SOLVER_CONVERGENCE_MSG,\n",
      "c:\\Users\\Dagart\\anaconda3\\envs\\easypy37\\lib\\site-packages\\sklearn\\linear_model\\_logistic.py:818: ConvergenceWarning: lbfgs failed to converge (status=1):\n",
      "STOP: TOTAL NO. of ITERATIONS REACHED LIMIT.\n",
      "\n",
      "Increase the number of iterations (max_iter) or scale the data as shown in:\n",
      "    https://scikit-learn.org/stable/modules/preprocessing.html\n",
      "Please also refer to the documentation for alternative solver options:\n",
      "    https://scikit-learn.org/stable/modules/linear_model.html#logistic-regression\n",
      "  extra_warning_msg=_LOGISTIC_SOLVER_CONVERGENCE_MSG,\n",
      "c:\\Users\\Dagart\\anaconda3\\envs\\easypy37\\lib\\site-packages\\sklearn\\linear_model\\_logistic.py:818: ConvergenceWarning: lbfgs failed to converge (status=1):\n",
      "STOP: TOTAL NO. of ITERATIONS REACHED LIMIT.\n",
      "\n",
      "Increase the number of iterations (max_iter) or scale the data as shown in:\n",
      "    https://scikit-learn.org/stable/modules/preprocessing.html\n",
      "Please also refer to the documentation for alternative solver options:\n",
      "    https://scikit-learn.org/stable/modules/linear_model.html#logistic-regression\n",
      "  extra_warning_msg=_LOGISTIC_SOLVER_CONVERGENCE_MSG,\n",
      "c:\\Users\\Dagart\\anaconda3\\envs\\easypy37\\lib\\site-packages\\sklearn\\linear_model\\_logistic.py:818: ConvergenceWarning: lbfgs failed to converge (status=1):\n",
      "STOP: TOTAL NO. of ITERATIONS REACHED LIMIT.\n",
      "\n",
      "Increase the number of iterations (max_iter) or scale the data as shown in:\n",
      "    https://scikit-learn.org/stable/modules/preprocessing.html\n",
      "Please also refer to the documentation for alternative solver options:\n",
      "    https://scikit-learn.org/stable/modules/linear_model.html#logistic-regression\n",
      "  extra_warning_msg=_LOGISTIC_SOLVER_CONVERGENCE_MSG,\n",
      "c:\\Users\\Dagart\\anaconda3\\envs\\easypy37\\lib\\site-packages\\sklearn\\linear_model\\_logistic.py:818: ConvergenceWarning: lbfgs failed to converge (status=1):\n",
      "STOP: TOTAL NO. of ITERATIONS REACHED LIMIT.\n",
      "\n",
      "Increase the number of iterations (max_iter) or scale the data as shown in:\n",
      "    https://scikit-learn.org/stable/modules/preprocessing.html\n",
      "Please also refer to the documentation for alternative solver options:\n",
      "    https://scikit-learn.org/stable/modules/linear_model.html#logistic-regression\n",
      "  extra_warning_msg=_LOGISTIC_SOLVER_CONVERGENCE_MSG,\n",
      "c:\\Users\\Dagart\\anaconda3\\envs\\easypy37\\lib\\site-packages\\sklearn\\linear_model\\_logistic.py:818: ConvergenceWarning: lbfgs failed to converge (status=1):\n",
      "STOP: TOTAL NO. of ITERATIONS REACHED LIMIT.\n",
      "\n",
      "Increase the number of iterations (max_iter) or scale the data as shown in:\n",
      "    https://scikit-learn.org/stable/modules/preprocessing.html\n",
      "Please also refer to the documentation for alternative solver options:\n",
      "    https://scikit-learn.org/stable/modules/linear_model.html#logistic-regression\n",
      "  extra_warning_msg=_LOGISTIC_SOLVER_CONVERGENCE_MSG,\n",
      "c:\\Users\\Dagart\\anaconda3\\envs\\easypy37\\lib\\site-packages\\sklearn\\linear_model\\_logistic.py:818: ConvergenceWarning: lbfgs failed to converge (status=1):\n",
      "STOP: TOTAL NO. of ITERATIONS REACHED LIMIT.\n",
      "\n",
      "Increase the number of iterations (max_iter) or scale the data as shown in:\n",
      "    https://scikit-learn.org/stable/modules/preprocessing.html\n",
      "Please also refer to the documentation for alternative solver options:\n",
      "    https://scikit-learn.org/stable/modules/linear_model.html#logistic-regression\n",
      "  extra_warning_msg=_LOGISTIC_SOLVER_CONVERGENCE_MSG,\n",
      "c:\\Users\\Dagart\\anaconda3\\envs\\easypy37\\lib\\site-packages\\sklearn\\linear_model\\_logistic.py:818: ConvergenceWarning: lbfgs failed to converge (status=1):\n",
      "STOP: TOTAL NO. of ITERATIONS REACHED LIMIT.\n",
      "\n",
      "Increase the number of iterations (max_iter) or scale the data as shown in:\n",
      "    https://scikit-learn.org/stable/modules/preprocessing.html\n",
      "Please also refer to the documentation for alternative solver options:\n",
      "    https://scikit-learn.org/stable/modules/linear_model.html#logistic-regression\n",
      "  extra_warning_msg=_LOGISTIC_SOLVER_CONVERGENCE_MSG,\n",
      "c:\\Users\\Dagart\\anaconda3\\envs\\easypy37\\lib\\site-packages\\sklearn\\linear_model\\_logistic.py:818: ConvergenceWarning: lbfgs failed to converge (status=1):\n",
      "STOP: TOTAL NO. of ITERATIONS REACHED LIMIT.\n",
      "\n",
      "Increase the number of iterations (max_iter) or scale the data as shown in:\n",
      "    https://scikit-learn.org/stable/modules/preprocessing.html\n",
      "Please also refer to the documentation for alternative solver options:\n",
      "    https://scikit-learn.org/stable/modules/linear_model.html#logistic-regression\n",
      "  extra_warning_msg=_LOGISTIC_SOLVER_CONVERGENCE_MSG,\n",
      "c:\\Users\\Dagart\\anaconda3\\envs\\easypy37\\lib\\site-packages\\sklearn\\linear_model\\_logistic.py:818: ConvergenceWarning: lbfgs failed to converge (status=1):\n",
      "STOP: TOTAL NO. of ITERATIONS REACHED LIMIT.\n",
      "\n",
      "Increase the number of iterations (max_iter) or scale the data as shown in:\n",
      "    https://scikit-learn.org/stable/modules/preprocessing.html\n",
      "Please also refer to the documentation for alternative solver options:\n",
      "    https://scikit-learn.org/stable/modules/linear_model.html#logistic-regression\n",
      "  extra_warning_msg=_LOGISTIC_SOLVER_CONVERGENCE_MSG,\n",
      "c:\\Users\\Dagart\\anaconda3\\envs\\easypy37\\lib\\site-packages\\sklearn\\linear_model\\_logistic.py:818: ConvergenceWarning: lbfgs failed to converge (status=1):\n",
      "STOP: TOTAL NO. of ITERATIONS REACHED LIMIT.\n",
      "\n",
      "Increase the number of iterations (max_iter) or scale the data as shown in:\n",
      "    https://scikit-learn.org/stable/modules/preprocessing.html\n",
      "Please also refer to the documentation for alternative solver options:\n",
      "    https://scikit-learn.org/stable/modules/linear_model.html#logistic-regression\n",
      "  extra_warning_msg=_LOGISTIC_SOLVER_CONVERGENCE_MSG,\n",
      "c:\\Users\\Dagart\\anaconda3\\envs\\easypy37\\lib\\site-packages\\sklearn\\linear_model\\_logistic.py:818: ConvergenceWarning: lbfgs failed to converge (status=1):\n",
      "STOP: TOTAL NO. of ITERATIONS REACHED LIMIT.\n",
      "\n",
      "Increase the number of iterations (max_iter) or scale the data as shown in:\n",
      "    https://scikit-learn.org/stable/modules/preprocessing.html\n",
      "Please also refer to the documentation for alternative solver options:\n",
      "    https://scikit-learn.org/stable/modules/linear_model.html#logistic-regression\n",
      "  extra_warning_msg=_LOGISTIC_SOLVER_CONVERGENCE_MSG,\n",
      "c:\\Users\\Dagart\\anaconda3\\envs\\easypy37\\lib\\site-packages\\sklearn\\linear_model\\_logistic.py:818: ConvergenceWarning: lbfgs failed to converge (status=1):\n",
      "STOP: TOTAL NO. of ITERATIONS REACHED LIMIT.\n",
      "\n",
      "Increase the number of iterations (max_iter) or scale the data as shown in:\n",
      "    https://scikit-learn.org/stable/modules/preprocessing.html\n",
      "Please also refer to the documentation for alternative solver options:\n",
      "    https://scikit-learn.org/stable/modules/linear_model.html#logistic-regression\n",
      "  extra_warning_msg=_LOGISTIC_SOLVER_CONVERGENCE_MSG,\n",
      "c:\\Users\\Dagart\\anaconda3\\envs\\easypy37\\lib\\site-packages\\sklearn\\linear_model\\_logistic.py:818: ConvergenceWarning: lbfgs failed to converge (status=1):\n",
      "STOP: TOTAL NO. of ITERATIONS REACHED LIMIT.\n",
      "\n",
      "Increase the number of iterations (max_iter) or scale the data as shown in:\n",
      "    https://scikit-learn.org/stable/modules/preprocessing.html\n",
      "Please also refer to the documentation for alternative solver options:\n",
      "    https://scikit-learn.org/stable/modules/linear_model.html#logistic-regression\n",
      "  extra_warning_msg=_LOGISTIC_SOLVER_CONVERGENCE_MSG,\n",
      "c:\\Users\\Dagart\\anaconda3\\envs\\easypy37\\lib\\site-packages\\sklearn\\linear_model\\_logistic.py:818: ConvergenceWarning: lbfgs failed to converge (status=1):\n",
      "STOP: TOTAL NO. of ITERATIONS REACHED LIMIT.\n",
      "\n",
      "Increase the number of iterations (max_iter) or scale the data as shown in:\n",
      "    https://scikit-learn.org/stable/modules/preprocessing.html\n",
      "Please also refer to the documentation for alternative solver options:\n",
      "    https://scikit-learn.org/stable/modules/linear_model.html#logistic-regression\n",
      "  extra_warning_msg=_LOGISTIC_SOLVER_CONVERGENCE_MSG,\n"
     ]
    }
   ],
   "source": [
    "model = LogisticRegression()\n",
    "\n",
    "# run cross fold validation on the updrs 1 data\n",
    "updrs1_results = cross_fold_validation(updrs1_df, model, 'updrs_1')\n",
    "\n",
    "model = LogisticRegression()\n",
    "updrs2_results = cross_fold_validation(updrs2_df, model, 'updrs_2')\n",
    "\n",
    "model = LogisticRegression()\n",
    "updrs3_results = cross_fold_validation(updrs3_df, model, 'updrs_3')"
   ]
  },
  {
   "cell_type": "code",
   "execution_count": null,
   "metadata": {},
   "outputs": [
    {
     "data": {
      "text/plain": [
       "(0.511721383287093,\n",
       " 0.780847703040674,\n",
       " 0.32282051282051283,\n",
       " 0.062211088895139766)"
      ]
     },
     "execution_count": 86,
     "metadata": {},
     "output_type": "execute_result"
    }
   ],
   "source": [
    "updrs1_results"
   ]
  },
  {
   "cell_type": "code",
   "execution_count": null,
   "metadata": {},
   "outputs": [
    {
     "data": {
      "text/plain": [
       "(0.5258909849605227,\n",
       " 0.8464349962704578,\n",
       " 0.42333333333333323,\n",
       " 0.07048988874546684)"
      ]
     },
     "execution_count": 87,
     "metadata": {},
     "output_type": "execute_result"
    }
   ],
   "source": [
    "updrs2_results"
   ]
  },
  {
   "cell_type": "code",
   "execution_count": null,
   "metadata": {},
   "outputs": [
    {
     "data": {
      "text/plain": [
       "(0.5240749211448716,\n",
       " 0.8194894035589735,\n",
       " 0.3485714285714286,\n",
       " 0.07900396151669495)"
      ]
     },
     "execution_count": 88,
     "metadata": {},
     "output_type": "execute_result"
    }
   ],
   "source": [
    "updrs3_results"
   ]
  },
  {
   "attachments": {},
   "cell_type": "markdown",
   "metadata": {},
   "source": [
    "## Forecast with Logistic Regression"
   ]
  },
  {
   "cell_type": "code",
   "execution_count": null,
   "metadata": {},
   "outputs": [
    {
     "name": "stderr",
     "output_type": "stream",
     "text": [
      "c:\\Users\\Dagart\\anaconda3\\envs\\easypy37\\lib\\site-packages\\sklearn\\linear_model\\_logistic.py:818: ConvergenceWarning: lbfgs failed to converge (status=1):\n",
      "STOP: TOTAL NO. of ITERATIONS REACHED LIMIT.\n",
      "\n",
      "Increase the number of iterations (max_iter) or scale the data as shown in:\n",
      "    https://scikit-learn.org/stable/modules/preprocessing.html\n",
      "Please also refer to the documentation for alternative solver options:\n",
      "    https://scikit-learn.org/stable/modules/linear_model.html#logistic-regression\n",
      "  extra_warning_msg=_LOGISTIC_SOLVER_CONVERGENCE_MSG,\n"
     ]
    },
    {
     "name": "stderr",
     "output_type": "stream",
     "text": [
      "c:\\Users\\Dagart\\anaconda3\\envs\\easypy37\\lib\\site-packages\\sklearn\\linear_model\\_logistic.py:818: ConvergenceWarning: lbfgs failed to converge (status=1):\n",
      "STOP: TOTAL NO. of ITERATIONS REACHED LIMIT.\n",
      "\n",
      "Increase the number of iterations (max_iter) or scale the data as shown in:\n",
      "    https://scikit-learn.org/stable/modules/preprocessing.html\n",
      "Please also refer to the documentation for alternative solver options:\n",
      "    https://scikit-learn.org/stable/modules/linear_model.html#logistic-regression\n",
      "  extra_warning_msg=_LOGISTIC_SOLVER_CONVERGENCE_MSG,\n",
      "c:\\Users\\Dagart\\anaconda3\\envs\\easypy37\\lib\\site-packages\\sklearn\\linear_model\\_logistic.py:818: ConvergenceWarning: lbfgs failed to converge (status=1):\n",
      "STOP: TOTAL NO. of ITERATIONS REACHED LIMIT.\n",
      "\n",
      "Increase the number of iterations (max_iter) or scale the data as shown in:\n",
      "    https://scikit-learn.org/stable/modules/preprocessing.html\n",
      "Please also refer to the documentation for alternative solver options:\n",
      "    https://scikit-learn.org/stable/modules/linear_model.html#logistic-regression\n",
      "  extra_warning_msg=_LOGISTIC_SOLVER_CONVERGENCE_MSG,\n",
      "c:\\Users\\Dagart\\anaconda3\\envs\\easypy37\\lib\\site-packages\\sklearn\\linear_model\\_logistic.py:818: ConvergenceWarning: lbfgs failed to converge (status=1):\n",
      "STOP: TOTAL NO. of ITERATIONS REACHED LIMIT.\n",
      "\n",
      "Increase the number of iterations (max_iter) or scale the data as shown in:\n",
      "    https://scikit-learn.org/stable/modules/preprocessing.html\n",
      "Please also refer to the documentation for alternative solver options:\n",
      "    https://scikit-learn.org/stable/modules/linear_model.html#logistic-regression\n",
      "  extra_warning_msg=_LOGISTIC_SOLVER_CONVERGENCE_MSG,\n",
      "c:\\Users\\Dagart\\anaconda3\\envs\\easypy37\\lib\\site-packages\\sklearn\\linear_model\\_logistic.py:818: ConvergenceWarning: lbfgs failed to converge (status=1):\n",
      "STOP: TOTAL NO. of ITERATIONS REACHED LIMIT.\n",
      "\n",
      "Increase the number of iterations (max_iter) or scale the data as shown in:\n",
      "    https://scikit-learn.org/stable/modules/preprocessing.html\n",
      "Please also refer to the documentation for alternative solver options:\n",
      "    https://scikit-learn.org/stable/modules/linear_model.html#logistic-regression\n",
      "  extra_warning_msg=_LOGISTIC_SOLVER_CONVERGENCE_MSG,\n",
      "c:\\Users\\Dagart\\anaconda3\\envs\\easypy37\\lib\\site-packages\\sklearn\\linear_model\\_logistic.py:818: ConvergenceWarning: lbfgs failed to converge (status=1):\n",
      "STOP: TOTAL NO. of ITERATIONS REACHED LIMIT.\n",
      "\n",
      "Increase the number of iterations (max_iter) or scale the data as shown in:\n",
      "    https://scikit-learn.org/stable/modules/preprocessing.html\n",
      "Please also refer to the documentation for alternative solver options:\n",
      "    https://scikit-learn.org/stable/modules/linear_model.html#logistic-regression\n",
      "  extra_warning_msg=_LOGISTIC_SOLVER_CONVERGENCE_MSG,\n",
      "c:\\Users\\Dagart\\anaconda3\\envs\\easypy37\\lib\\site-packages\\sklearn\\linear_model\\_logistic.py:818: ConvergenceWarning: lbfgs failed to converge (status=1):\n",
      "STOP: TOTAL NO. of ITERATIONS REACHED LIMIT.\n",
      "\n",
      "Increase the number of iterations (max_iter) or scale the data as shown in:\n",
      "    https://scikit-learn.org/stable/modules/preprocessing.html\n",
      "Please also refer to the documentation for alternative solver options:\n",
      "    https://scikit-learn.org/stable/modules/linear_model.html#logistic-regression\n",
      "  extra_warning_msg=_LOGISTIC_SOLVER_CONVERGENCE_MSG,\n",
      "c:\\Users\\Dagart\\anaconda3\\envs\\easypy37\\lib\\site-packages\\sklearn\\linear_model\\_logistic.py:818: ConvergenceWarning: lbfgs failed to converge (status=1):\n",
      "STOP: TOTAL NO. of ITERATIONS REACHED LIMIT.\n",
      "\n",
      "Increase the number of iterations (max_iter) or scale the data as shown in:\n",
      "    https://scikit-learn.org/stable/modules/preprocessing.html\n",
      "Please also refer to the documentation for alternative solver options:\n",
      "    https://scikit-learn.org/stable/modules/linear_model.html#logistic-regression\n",
      "  extra_warning_msg=_LOGISTIC_SOLVER_CONVERGENCE_MSG,\n",
      "c:\\Users\\Dagart\\anaconda3\\envs\\easypy37\\lib\\site-packages\\sklearn\\linear_model\\_logistic.py:818: ConvergenceWarning: lbfgs failed to converge (status=1):\n",
      "STOP: TOTAL NO. of ITERATIONS REACHED LIMIT.\n",
      "\n",
      "Increase the number of iterations (max_iter) or scale the data as shown in:\n",
      "    https://scikit-learn.org/stable/modules/preprocessing.html\n",
      "Please also refer to the documentation for alternative solver options:\n",
      "    https://scikit-learn.org/stable/modules/linear_model.html#logistic-regression\n",
      "  extra_warning_msg=_LOGISTIC_SOLVER_CONVERGENCE_MSG,\n",
      "c:\\Users\\Dagart\\anaconda3\\envs\\easypy37\\lib\\site-packages\\sklearn\\linear_model\\_logistic.py:818: ConvergenceWarning: lbfgs failed to converge (status=1):\n",
      "STOP: TOTAL NO. of ITERATIONS REACHED LIMIT.\n",
      "\n",
      "Increase the number of iterations (max_iter) or scale the data as shown in:\n",
      "    https://scikit-learn.org/stable/modules/preprocessing.html\n",
      "Please also refer to the documentation for alternative solver options:\n",
      "    https://scikit-learn.org/stable/modules/linear_model.html#logistic-regression\n",
      "  extra_warning_msg=_LOGISTIC_SOLVER_CONVERGENCE_MSG,\n",
      "c:\\Users\\Dagart\\anaconda3\\envs\\easypy37\\lib\\site-packages\\sklearn\\linear_model\\_logistic.py:818: ConvergenceWarning: lbfgs failed to converge (status=1):\n",
      "STOP: TOTAL NO. of ITERATIONS REACHED LIMIT.\n",
      "\n",
      "Increase the number of iterations (max_iter) or scale the data as shown in:\n",
      "    https://scikit-learn.org/stable/modules/preprocessing.html\n",
      "Please also refer to the documentation for alternative solver options:\n",
      "    https://scikit-learn.org/stable/modules/linear_model.html#logistic-regression\n",
      "  extra_warning_msg=_LOGISTIC_SOLVER_CONVERGENCE_MSG,\n",
      "c:\\Users\\Dagart\\anaconda3\\envs\\easypy37\\lib\\site-packages\\sklearn\\linear_model\\_logistic.py:818: ConvergenceWarning: lbfgs failed to converge (status=1):\n",
      "STOP: TOTAL NO. of ITERATIONS REACHED LIMIT.\n",
      "\n",
      "Increase the number of iterations (max_iter) or scale the data as shown in:\n",
      "    https://scikit-learn.org/stable/modules/preprocessing.html\n",
      "Please also refer to the documentation for alternative solver options:\n",
      "    https://scikit-learn.org/stable/modules/linear_model.html#logistic-regression\n",
      "  extra_warning_msg=_LOGISTIC_SOLVER_CONVERGENCE_MSG,\n",
      "c:\\Users\\Dagart\\anaconda3\\envs\\easypy37\\lib\\site-packages\\sklearn\\linear_model\\_logistic.py:818: ConvergenceWarning: lbfgs failed to converge (status=1):\n",
      "STOP: TOTAL NO. of ITERATIONS REACHED LIMIT.\n",
      "\n",
      "Increase the number of iterations (max_iter) or scale the data as shown in:\n",
      "    https://scikit-learn.org/stable/modules/preprocessing.html\n",
      "Please also refer to the documentation for alternative solver options:\n",
      "    https://scikit-learn.org/stable/modules/linear_model.html#logistic-regression\n",
      "  extra_warning_msg=_LOGISTIC_SOLVER_CONVERGENCE_MSG,\n",
      "c:\\Users\\Dagart\\anaconda3\\envs\\easypy37\\lib\\site-packages\\sklearn\\linear_model\\_logistic.py:818: ConvergenceWarning: lbfgs failed to converge (status=1):\n",
      "STOP: TOTAL NO. of ITERATIONS REACHED LIMIT.\n",
      "\n",
      "Increase the number of iterations (max_iter) or scale the data as shown in:\n",
      "    https://scikit-learn.org/stable/modules/preprocessing.html\n",
      "Please also refer to the documentation for alternative solver options:\n",
      "    https://scikit-learn.org/stable/modules/linear_model.html#logistic-regression\n",
      "  extra_warning_msg=_LOGISTIC_SOLVER_CONVERGENCE_MSG,\n",
      "c:\\Users\\Dagart\\anaconda3\\envs\\easypy37\\lib\\site-packages\\sklearn\\linear_model\\_logistic.py:818: ConvergenceWarning: lbfgs failed to converge (status=1):\n",
      "STOP: TOTAL NO. of ITERATIONS REACHED LIMIT.\n",
      "\n",
      "Increase the number of iterations (max_iter) or scale the data as shown in:\n",
      "    https://scikit-learn.org/stable/modules/preprocessing.html\n",
      "Please also refer to the documentation for alternative solver options:\n",
      "    https://scikit-learn.org/stable/modules/linear_model.html#logistic-regression\n",
      "  extra_warning_msg=_LOGISTIC_SOLVER_CONVERGENCE_MSG,\n"
     ]
    }
   ],
   "source": [
    "model = LogisticRegression()\n",
    "\n",
    "# run cross fold validation on the updrs 1 data\n",
    "updrs1_forecast_results = cross_fold_validation(updrs1_yr_df, model, 'updrs_1')\n",
    "\n",
    "model = LogisticRegression()\n",
    "updrs2_forecast_results = cross_fold_validation(updrs2_yr_df, model, 'updrs_2')\n",
    "\n",
    "model = LogisticRegression()\n",
    "updrs3_forecast_results = cross_fold_validation(updrs3_yr_df, model, 'updrs_3')"
   ]
  },
  {
   "cell_type": "code",
   "execution_count": null,
   "metadata": {},
   "outputs": [
    {
     "data": {
      "text/plain": [
       "(0.5634874999789138,\n",
       " 0.5994172665293609,\n",
       " 0.4912421630094044,\n",
       " 0.3920253253358589)"
      ]
     },
     "execution_count": 90,
     "metadata": {},
     "output_type": "execute_result"
    }
   ],
   "source": [
    "updrs1_forecast_results"
   ]
  },
  {
   "cell_type": "code",
   "execution_count": null,
   "metadata": {},
   "outputs": [
    {
     "data": {
      "text/plain": [
       "(0.582742150911908, 0.6805340492840493, 0.4779128959276018, 0.3289821193299454)"
      ]
     },
     "execution_count": 91,
     "metadata": {},
     "output_type": "execute_result"
    }
   ],
   "source": [
    "updrs2_forecast_results"
   ]
  },
  {
   "cell_type": "code",
   "execution_count": null,
   "metadata": {},
   "outputs": [
    {
     "data": {
      "text/plain": [
       "(0.5758538282007636,\n",
       " 0.6218648310387985,\n",
       " 0.5047414576826341,\n",
       " 0.3744481451117032)"
      ]
     },
     "execution_count": 92,
     "metadata": {},
     "output_type": "execute_result"
    }
   ],
   "source": [
    "updrs3_forecast_results"
   ]
  },
  {
   "cell_type": "code",
   "execution_count": null,
   "metadata": {},
   "outputs": [],
   "source": []
  }
 ],
 "metadata": {
  "kernelspec": {
   "display_name": "cmdpy36",
   "language": "python",
   "name": "cmdpy36"
  },
  "language_info": {
   "codemirror_mode": {
    "name": "ipython",
    "version": 3
   },
   "file_extension": ".py",
   "mimetype": "text/x-python",
   "name": "python",
   "nbconvert_exporter": "python",
   "pygments_lexer": "ipython3",
   "version": "3.7.6"
  }
 },
 "nbformat": 4,
 "nbformat_minor": 2
}
