{
 "cells": [
  {
   "cell_type": "code",
   "execution_count": 1,
   "id": "a9637f10",
   "metadata": {},
   "outputs": [],
   "source": [
    "import pandas as pd\n",
    "import numpy as np\n"
   ]
  },
  {
   "cell_type": "code",
   "execution_count": 4,
   "id": "f3095464",
   "metadata": {},
   "outputs": [],
   "source": [
    "test_df = pd.read_csv('~/parkinsons_proj_1/parkinsons_project/parkinsons_1/data/raw/test.csv')"
   ]
  },
  {
   "cell_type": "code",
   "execution_count": 5,
   "id": "f07cb270",
   "metadata": {},
   "outputs": [
    {
     "data": {
      "text/html": [
       "<div>\n",
       "<style scoped>\n",
       "    .dataframe tbody tr th:only-of-type {\n",
       "        vertical-align: middle;\n",
       "    }\n",
       "\n",
       "    .dataframe tbody tr th {\n",
       "        vertical-align: top;\n",
       "    }\n",
       "\n",
       "    .dataframe thead th {\n",
       "        text-align: right;\n",
       "    }\n",
       "</style>\n",
       "<table border=\"1\" class=\"dataframe\">\n",
       "  <thead>\n",
       "    <tr style=\"text-align: right;\">\n",
       "      <th></th>\n",
       "      <th>visit_id</th>\n",
       "      <th>visit_month</th>\n",
       "      <th>patient_id</th>\n",
       "      <th>updrs_test</th>\n",
       "      <th>row_id</th>\n",
       "      <th>group_key</th>\n",
       "    </tr>\n",
       "  </thead>\n",
       "  <tbody>\n",
       "    <tr>\n",
       "      <th>0</th>\n",
       "      <td>3342_0</td>\n",
       "      <td>0</td>\n",
       "      <td>3342</td>\n",
       "      <td>updrs_1</td>\n",
       "      <td>3342_0_updrs_1</td>\n",
       "      <td>0</td>\n",
       "    </tr>\n",
       "    <tr>\n",
       "      <th>1</th>\n",
       "      <td>3342_0</td>\n",
       "      <td>0</td>\n",
       "      <td>3342</td>\n",
       "      <td>updrs_2</td>\n",
       "      <td>3342_0_updrs_2</td>\n",
       "      <td>0</td>\n",
       "    </tr>\n",
       "    <tr>\n",
       "      <th>2</th>\n",
       "      <td>3342_0</td>\n",
       "      <td>0</td>\n",
       "      <td>3342</td>\n",
       "      <td>updrs_3</td>\n",
       "      <td>3342_0_updrs_3</td>\n",
       "      <td>0</td>\n",
       "    </tr>\n",
       "    <tr>\n",
       "      <th>3</th>\n",
       "      <td>3342_0</td>\n",
       "      <td>0</td>\n",
       "      <td>3342</td>\n",
       "      <td>updrs_4</td>\n",
       "      <td>3342_0_updrs_4</td>\n",
       "      <td>0</td>\n",
       "    </tr>\n",
       "    <tr>\n",
       "      <th>4</th>\n",
       "      <td>50423_0</td>\n",
       "      <td>0</td>\n",
       "      <td>50423</td>\n",
       "      <td>updrs_1</td>\n",
       "      <td>50423_0_updrs_1</td>\n",
       "      <td>0</td>\n",
       "    </tr>\n",
       "  </tbody>\n",
       "</table>\n",
       "</div>"
      ],
      "text/plain": [
       "  visit_id  visit_month  patient_id updrs_test           row_id  group_key\n",
       "0   3342_0            0        3342    updrs_1   3342_0_updrs_1          0\n",
       "1   3342_0            0        3342    updrs_2   3342_0_updrs_2          0\n",
       "2   3342_0            0        3342    updrs_3   3342_0_updrs_3          0\n",
       "3   3342_0            0        3342    updrs_4   3342_0_updrs_4          0\n",
       "4  50423_0            0       50423    updrs_1  50423_0_updrs_1          0"
      ]
     },
     "execution_count": 5,
     "metadata": {},
     "output_type": "execute_result"
    }
   ],
   "source": [
    "test_df.head()"
   ]
  },
  {
   "cell_type": "code",
   "execution_count": 6,
   "id": "85279eb7",
   "metadata": {},
   "outputs": [
    {
     "data": {
      "text/html": [
       "<div>\n",
       "<style scoped>\n",
       "    .dataframe tbody tr th:only-of-type {\n",
       "        vertical-align: middle;\n",
       "    }\n",
       "\n",
       "    .dataframe tbody tr th {\n",
       "        vertical-align: top;\n",
       "    }\n",
       "\n",
       "    .dataframe thead th {\n",
       "        text-align: right;\n",
       "    }\n",
       "</style>\n",
       "<table border=\"1\" class=\"dataframe\">\n",
       "  <thead>\n",
       "    <tr style=\"text-align: right;\">\n",
       "      <th></th>\n",
       "      <th>visit_id</th>\n",
       "      <th>patient_id</th>\n",
       "      <th>visit_month</th>\n",
       "      <th>updrs_1</th>\n",
       "      <th>updrs_2</th>\n",
       "      <th>updrs_3</th>\n",
       "      <th>updrs_4</th>\n",
       "      <th>upd23b_clinical_state_on_medication</th>\n",
       "    </tr>\n",
       "  </thead>\n",
       "  <tbody>\n",
       "    <tr>\n",
       "      <th>0</th>\n",
       "      <td>55_0</td>\n",
       "      <td>55</td>\n",
       "      <td>0</td>\n",
       "      <td>10.0</td>\n",
       "      <td>6.0</td>\n",
       "      <td>15.0</td>\n",
       "      <td>NaN</td>\n",
       "      <td>NaN</td>\n",
       "    </tr>\n",
       "    <tr>\n",
       "      <th>1</th>\n",
       "      <td>55_3</td>\n",
       "      <td>55</td>\n",
       "      <td>3</td>\n",
       "      <td>10.0</td>\n",
       "      <td>7.0</td>\n",
       "      <td>25.0</td>\n",
       "      <td>NaN</td>\n",
       "      <td>NaN</td>\n",
       "    </tr>\n",
       "    <tr>\n",
       "      <th>2</th>\n",
       "      <td>55_6</td>\n",
       "      <td>55</td>\n",
       "      <td>6</td>\n",
       "      <td>8.0</td>\n",
       "      <td>10.0</td>\n",
       "      <td>34.0</td>\n",
       "      <td>NaN</td>\n",
       "      <td>NaN</td>\n",
       "    </tr>\n",
       "    <tr>\n",
       "      <th>3</th>\n",
       "      <td>55_9</td>\n",
       "      <td>55</td>\n",
       "      <td>9</td>\n",
       "      <td>8.0</td>\n",
       "      <td>9.0</td>\n",
       "      <td>30.0</td>\n",
       "      <td>0.0</td>\n",
       "      <td>On</td>\n",
       "    </tr>\n",
       "    <tr>\n",
       "      <th>4</th>\n",
       "      <td>55_12</td>\n",
       "      <td>55</td>\n",
       "      <td>12</td>\n",
       "      <td>10.0</td>\n",
       "      <td>10.0</td>\n",
       "      <td>41.0</td>\n",
       "      <td>0.0</td>\n",
       "      <td>On</td>\n",
       "    </tr>\n",
       "    <tr>\n",
       "      <th>...</th>\n",
       "      <td>...</td>\n",
       "      <td>...</td>\n",
       "      <td>...</td>\n",
       "      <td>...</td>\n",
       "      <td>...</td>\n",
       "      <td>...</td>\n",
       "      <td>...</td>\n",
       "      <td>...</td>\n",
       "    </tr>\n",
       "    <tr>\n",
       "      <th>2610</th>\n",
       "      <td>65043_48</td>\n",
       "      <td>65043</td>\n",
       "      <td>48</td>\n",
       "      <td>7.0</td>\n",
       "      <td>6.0</td>\n",
       "      <td>13.0</td>\n",
       "      <td>0.0</td>\n",
       "      <td>Off</td>\n",
       "    </tr>\n",
       "    <tr>\n",
       "      <th>2611</th>\n",
       "      <td>65043_54</td>\n",
       "      <td>65043</td>\n",
       "      <td>54</td>\n",
       "      <td>4.0</td>\n",
       "      <td>8.0</td>\n",
       "      <td>11.0</td>\n",
       "      <td>1.0</td>\n",
       "      <td>Off</td>\n",
       "    </tr>\n",
       "    <tr>\n",
       "      <th>2612</th>\n",
       "      <td>65043_60</td>\n",
       "      <td>65043</td>\n",
       "      <td>60</td>\n",
       "      <td>6.0</td>\n",
       "      <td>6.0</td>\n",
       "      <td>16.0</td>\n",
       "      <td>1.0</td>\n",
       "      <td>Off</td>\n",
       "    </tr>\n",
       "    <tr>\n",
       "      <th>2613</th>\n",
       "      <td>65043_72</td>\n",
       "      <td>65043</td>\n",
       "      <td>72</td>\n",
       "      <td>3.0</td>\n",
       "      <td>9.0</td>\n",
       "      <td>14.0</td>\n",
       "      <td>1.0</td>\n",
       "      <td>Off</td>\n",
       "    </tr>\n",
       "    <tr>\n",
       "      <th>2614</th>\n",
       "      <td>65043_84</td>\n",
       "      <td>65043</td>\n",
       "      <td>84</td>\n",
       "      <td>7.0</td>\n",
       "      <td>9.0</td>\n",
       "      <td>20.0</td>\n",
       "      <td>3.0</td>\n",
       "      <td>Off</td>\n",
       "    </tr>\n",
       "  </tbody>\n",
       "</table>\n",
       "<p>2615 rows × 8 columns</p>\n",
       "</div>"
      ],
      "text/plain": [
       "      visit_id  patient_id  visit_month  updrs_1  updrs_2  updrs_3  updrs_4  \\\n",
       "0         55_0          55            0     10.0      6.0     15.0      NaN   \n",
       "1         55_3          55            3     10.0      7.0     25.0      NaN   \n",
       "2         55_6          55            6      8.0     10.0     34.0      NaN   \n",
       "3         55_9          55            9      8.0      9.0     30.0      0.0   \n",
       "4        55_12          55           12     10.0     10.0     41.0      0.0   \n",
       "...        ...         ...          ...      ...      ...      ...      ...   \n",
       "2610  65043_48       65043           48      7.0      6.0     13.0      0.0   \n",
       "2611  65043_54       65043           54      4.0      8.0     11.0      1.0   \n",
       "2612  65043_60       65043           60      6.0      6.0     16.0      1.0   \n",
       "2613  65043_72       65043           72      3.0      9.0     14.0      1.0   \n",
       "2614  65043_84       65043           84      7.0      9.0     20.0      3.0   \n",
       "\n",
       "     upd23b_clinical_state_on_medication  \n",
       "0                                    NaN  \n",
       "1                                    NaN  \n",
       "2                                    NaN  \n",
       "3                                     On  \n",
       "4                                     On  \n",
       "...                                  ...  \n",
       "2610                                 Off  \n",
       "2611                                 Off  \n",
       "2612                                 Off  \n",
       "2613                                 Off  \n",
       "2614                                 Off  \n",
       "\n",
       "[2615 rows x 8 columns]"
      ]
     },
     "execution_count": 6,
     "metadata": {},
     "output_type": "execute_result"
    }
   ],
   "source": [
    "train_clin"
   ]
  },
  {
   "cell_type": "code",
   "execution_count": 7,
   "id": "b277df56",
   "metadata": {},
   "outputs": [],
   "source": [
    "train_updrs_1 = pd.read_csv('~/parkinsons_proj_1/parkinsons_project/parkinsons_1/data/processed/train_updrs_1.csv')"
   ]
  },
  {
   "cell_type": "code",
   "execution_count": 10,
   "id": "a6bacbdf",
   "metadata": {},
   "outputs": [],
   "source": [
    "patient_ids = train_updrs_1['patient_id'].unique()"
   ]
  },
  {
   "cell_type": "markdown",
   "id": "6c459033",
   "metadata": {},
   "source": [
    "## Shuffle the Patient Ids"
   ]
  },
  {
   "cell_type": "code",
   "execution_count": 11,
   "id": "7a001ab8",
   "metadata": {},
   "outputs": [],
   "source": [
    "np.random.shuffle(patient_ids)"
   ]
  },
  {
   "cell_type": "code",
   "execution_count": 13,
   "id": "c5d618ed",
   "metadata": {},
   "outputs": [
    {
     "data": {
      "text/plain": [
       "array([ 7117, 40751, 31270, 31693,  7265, 47513,  4172, 60170,  7051,\n",
       "       56691, 14242, 52119, 14344, 42385, 55662, 14811, 11459, 52998,\n",
       "       45161, 58597, 51846, 14450, 37566, 22623, 19088, 27607, 16778,\n",
       "       41883, 41444, 15504, 28342,  4923, 60803, 29417, 22126, 57478,\n",
       "       40022,  5178, 42579, 63875, 31154,  7151, 18553, 61974, 13618,\n",
       "        8344,  3863, 13852, 55240,   942, 16574, 25911,  4161, 62732,\n",
       "       58653, 58270, 50611, 24911, 57507, 21126, 20404, 49995, 57468,\n",
       "       18183, 23244, 47881, 26210, 25827, 26809,  5742, 33558, 60443,\n",
       "       30416, 27715, 15245, 49683, 25739, 30951, 62437,  6420, 35696,\n",
       "       14270, 54406, 48928, 10174, 39719, 56075, 20792, 35231, 12755,\n",
       "       42003, 40650,  5027, 58189, 29313, 18204, 20791, 44001, 36797,\n",
       "       13368, 56317, 16238, 51899, 23391, 57416, 44154, 21537, 28818,\n",
       "        5645, 41930, 62723, 57646, 51879, 38419, 17154,  7886, 59574,\n",
       "       40200, 56119, 13360, 35477, 33108, 47171, 30119, 17727, 51708,\n",
       "       63889, 31121, 41871, 17201, 16566, 11928, 44682, 27468, 14124,\n",
       "        1517,  6054, 55302, 57009, 58648, 62329, 12703, 20707, 35675,\n",
       "          55, 65043, 24690, 40798, 17414, 23636, 51893,  3636, 10718,\n",
       "       20460, 40967,  7568, 35465, 41617, 11686, 30155, 40876, 16347,\n",
       "       37312, 10053, 49672, 53103, 56538, 27464, 27893, 55256, 10715,\n",
       "       54979, 15009, 20581,  7832,  1923, 27987, 45662, 37220, 34182,\n",
       "       24818, 27300, 13968, 30894, 20352, 16931,  2660, 40340, 25562,\n",
       "        8699, 20664,  7508, 23175, 24820, 40980, 60788, 58823, 56073,\n",
       "       27971, 51243, 10138, 15590, 57108, 23192,  5036, 58674,  6211,\n",
       "       12636, 27079, 40874, 55096, 46837, 27872, 47103, 25750, 60326,\n",
       "       62792, 12516, 57321, 28327, 26005, 41628, 13804, 50907, 64674,\n",
       "       18560, 48780, 26104, 10541, 14035, 24278, 20216, 44789, 45181,\n",
       "       64669, 56727, 56675, 21729, 12931, 61503, 49239, 42086, 54095,\n",
       "       39144, 20212, 59550, 52266, 33548], dtype=int64)"
      ]
     },
     "execution_count": 13,
     "metadata": {},
     "output_type": "execute_result"
    }
   ],
   "source": [
    "patient_ids"
   ]
  },
  {
   "cell_type": "markdown",
   "id": "46275bb6",
   "metadata": {},
   "source": [
    "## Select only 20% of the Patient Ids for the test group"
   ]
  },
  {
   "cell_type": "code",
   "execution_count": 19,
   "id": "965a2b08",
   "metadata": {},
   "outputs": [],
   "source": [
    "twenty_pct_ind = round(len(patient_ids) * .20)"
   ]
  },
  {
   "cell_type": "code",
   "execution_count": 20,
   "id": "6e183bf4",
   "metadata": {},
   "outputs": [],
   "source": [
    "train_ids = patient_ids[twenty_pct_ind:]\n",
    "test_ids = patient_ids[:twenty_pct_ind]"
   ]
  },
  {
   "cell_type": "code",
   "execution_count": 18,
   "id": "bc4750e3",
   "metadata": {},
   "outputs": [
    {
     "data": {
      "text/plain": [
       "49.6"
      ]
     },
     "execution_count": 18,
     "metadata": {},
     "output_type": "execute_result"
    }
   ],
   "source": [
    "twenty_pct_ind"
   ]
  },
  {
   "cell_type": "code",
   "execution_count": 21,
   "id": "fa9be845",
   "metadata": {},
   "outputs": [],
   "source": [
    "train_df = train_updrs_1[train_updrs_1['patient_id'].isin(train_ids)]\n",
    "test_df = train_updrs_1[train_updrs_1['patient_id'].isin(test_ids)]"
   ]
  },
  {
   "cell_type": "code",
   "execution_count": 22,
   "id": "6794b90b",
   "metadata": {},
   "outputs": [
    {
     "data": {
      "text/plain": [
       "((858, 1200), (210, 1200))"
      ]
     },
     "execution_count": 22,
     "metadata": {},
     "output_type": "execute_result"
    }
   ],
   "source": [
    "train_df.shape, test_df.shape"
   ]
  },
  {
   "cell_type": "code",
   "execution_count": null,
   "id": "0d2a5c2a",
   "metadata": {},
   "outputs": [],
   "source": []
  }
 ],
 "metadata": {
  "kernelspec": {
   "display_name": "Python 3 (ipykernel)",
   "language": "python",
   "name": "python3"
  },
  "language_info": {
   "codemirror_mode": {
    "name": "ipython",
    "version": 3
   },
   "file_extension": ".py",
   "mimetype": "text/x-python",
   "name": "python",
   "nbconvert_exporter": "python",
   "pygments_lexer": "ipython3",
   "version": "3.7.11"
  }
 },
 "nbformat": 4,
 "nbformat_minor": 5
}
